{
  "nbformat": 4,
  "nbformat_minor": 0,
  "metadata": {
    "colab": {
      "provenance": [],
      "authorship_tag": "ABX9TyM88UAsc4V9uSrpzAfyQpsW",
      "include_colab_link": true
    },
    "kernelspec": {
      "name": "python3",
      "display_name": "Python 3"
    },
    "language_info": {
      "name": "python"
    }
  },
  "cells": [
    {
      "cell_type": "markdown",
      "metadata": {
        "id": "view-in-github",
        "colab_type": "text"
      },
      "source": [
        "<a href=\"https://colab.research.google.com/github/gsfreitas/data_science/blob/main/Spark_Classificacao.ipynb\" target=\"_parent\"><img src=\"https://colab.research.google.com/assets/colab-badge.svg\" alt=\"Open In Colab\"/></a>"
      ]
    },
    {
      "cell_type": "markdown",
      "source": [
        "# Preparando os dados"
      ],
      "metadata": {
        "id": "aFyfnGrMpiwt"
      }
    },
    {
      "cell_type": "code",
      "execution_count": 1,
      "metadata": {
        "colab": {
          "base_uri": "https://localhost:8080/"
        },
        "id": "QJ4oGFSF-wok",
        "outputId": "c57835bc-7e87-478e-9318-b35b475ea048"
      },
      "outputs": [
        {
          "output_type": "stream",
          "name": "stdout",
          "text": [
            "Looking in indexes: https://pypi.org/simple, https://us-python.pkg.dev/colab-wheels/public/simple/\n",
            "Collecting pyspark\n",
            "  Downloading pyspark-3.3.2.tar.gz (281.4 MB)\n",
            "\u001b[2K     \u001b[90m━━━━━━━━━━━━━━━━━━━━━━━━━━━━━━━━━━━━━━━\u001b[0m \u001b[32m281.4/281.4 MB\u001b[0m \u001b[31m4.7 MB/s\u001b[0m eta \u001b[36m0:00:00\u001b[0m\n",
            "\u001b[?25h  Preparing metadata (setup.py) ... \u001b[?25l\u001b[?25hdone\n",
            "Collecting py4j==0.10.9.5\n",
            "  Downloading py4j-0.10.9.5-py2.py3-none-any.whl (199 kB)\n",
            "\u001b[2K     \u001b[90m━━━━━━━━━━━━━━━━━━━━━━━━━━━━━━━━━━━━━━\u001b[0m \u001b[32m199.7/199.7 KB\u001b[0m \u001b[31m15.4 MB/s\u001b[0m eta \u001b[36m0:00:00\u001b[0m\n",
            "\u001b[?25hBuilding wheels for collected packages: pyspark\n",
            "  Building wheel for pyspark (setup.py) ... \u001b[?25l\u001b[?25hdone\n",
            "  Created wheel for pyspark: filename=pyspark-3.3.2-py2.py3-none-any.whl size=281824025 sha256=d9a47f757f530538f6b7f6344189fb6b85dfe39366420076b99fc2683eb79864\n",
            "  Stored in directory: /root/.cache/pip/wheels/b1/59/a0/a1a0624b5e865fd389919c1a10f53aec9b12195d6747710baf\n",
            "Successfully built pyspark\n",
            "Installing collected packages: py4j, pyspark\n",
            "Successfully installed py4j-0.10.9.5 pyspark-3.3.2\n"
          ]
        }
      ],
      "source": [
        "# instalando o spark\n",
        "!pip install pyspark"
      ]
    },
    {
      "cell_type": "code",
      "source": [
        "# iniciando uma sessão no spark\n",
        "from pyspark.sql import SparkSession\n",
        "\n",
        "spark = SparkSession.builder.master('local[*]').appName('Classificação com Spark').getOrCreate()"
      ],
      "metadata": {
        "id": "TFmgbdLr-3U-"
      },
      "execution_count": 2,
      "outputs": []
    },
    {
      "cell_type": "code",
      "source": [
        "# lendo o dataset\n",
        "dados = spark.read.csv('dados_clientes.csv',sep=',',header=True,inferSchema=True)"
      ],
      "metadata": {
        "id": "GPZTSXqq_Ldb"
      },
      "execution_count": 3,
      "outputs": []
    },
    {
      "cell_type": "code",
      "source": [
        "# visualização dos dados\n",
        "dados.show()"
      ],
      "metadata": {
        "colab": {
          "base_uri": "https://localhost:8080/"
        },
        "id": "zaDEycN0_UC3",
        "outputId": "81d1ba18-78e1-4914-ceca-6ce6d26223b8"
      },
      "execution_count": 4,
      "outputs": [
        {
          "output_type": "stream",
          "name": "stdout",
          "text": [
            "+---+-----+----------+-------+-----------+---------------+------------+------------------------+-----------+------------------+------------------+------------------+------------------+------------------+------------------+------------+------------+----------------+-------------+\n",
            "| id|Churn|Mais65anos|Conjuge|Dependentes|MesesDeContrato|TelefoneFixo|MaisDeUmaLinhaTelefonica|   Internet|   SegurancaOnline|      BackupOnline| SeguroDispositivo|    SuporteTecnico|           TVaCabo|   StreamingFilmes|TipoContrato|ContaCorreio| MetodoPagamento|MesesCobrados|\n",
            "+---+-----+----------+-------+-----------+---------------+------------+------------------------+-----------+------------------+------------------+------------------+------------------+------------------+------------------+------------+------------+----------------+-------------+\n",
            "|  0|  Nao|         0|    Sim|        Nao|              1|         Nao|    SemServicoTelefonico|        DSL|               Nao|               Sim|               Nao|               Nao|               Nao|               Nao| Mensalmente|         Sim|BoletoEletronico|        29.85|\n",
            "|  1|  Nao|         0|    Nao|        Nao|             34|         Sim|                     Nao|        DSL|               Sim|               Nao|               Sim|               Nao|               Nao|               Nao|       UmAno|         Nao|          Boleto|        56.95|\n",
            "|  2|  Sim|         0|    Nao|        Nao|              2|         Sim|                     Nao|        DSL|               Sim|               Sim|               Nao|               Nao|               Nao|               Nao| Mensalmente|         Sim|          Boleto|        53.85|\n",
            "|  3|  Nao|         0|    Nao|        Nao|             45|         Nao|    SemServicoTelefonico|        DSL|               Sim|               Nao|               Sim|               Sim|               Nao|               Nao|       UmAno|         Nao|   DebitoEmConta|         42.3|\n",
            "|  4|  Sim|         0|    Nao|        Nao|              2|         Sim|                     Nao|FibraOptica|               Nao|               Nao|               Nao|               Nao|               Nao|               Nao| Mensalmente|         Sim|BoletoEletronico|         70.7|\n",
            "|  5|  Sim|         0|    Nao|        Nao|              8|         Sim|                     Sim|FibraOptica|               Nao|               Nao|               Sim|               Nao|               Sim|               Sim| Mensalmente|         Sim|BoletoEletronico|        99.65|\n",
            "|  6|  Nao|         0|    Nao|        Sim|             22|         Sim|                     Sim|FibraOptica|               Nao|               Sim|               Nao|               Nao|               Sim|               Nao| Mensalmente|         Sim|   CartaoCredito|         89.1|\n",
            "|  7|  Nao|         0|    Nao|        Nao|             10|         Nao|    SemServicoTelefonico|        DSL|               Sim|               Nao|               Nao|               Nao|               Nao|               Nao| Mensalmente|         Nao|          Boleto|        29.75|\n",
            "|  8|  Sim|         0|    Sim|        Nao|             28|         Sim|                     Sim|FibraOptica|               Nao|               Nao|               Sim|               Sim|               Sim|               Sim| Mensalmente|         Sim|BoletoEletronico|        104.8|\n",
            "|  9|  Nao|         0|    Nao|        Sim|             62|         Sim|                     Nao|        DSL|               Sim|               Sim|               Nao|               Nao|               Nao|               Nao|       UmAno|         Nao|   DebitoEmConta|        56.15|\n",
            "| 10|  Nao|         0|    Sim|        Sim|             13|         Sim|                     Nao|        DSL|               Sim|               Nao|               Nao|               Nao|               Nao|               Nao| Mensalmente|         Sim|          Boleto|        49.95|\n",
            "| 11|  Nao|         0|    Nao|        Nao|             16|         Sim|                     Nao|        Nao|SemServicoInternet|SemServicoInternet|SemServicoInternet|SemServicoInternet|SemServicoInternet|SemServicoInternet|    DoisAnos|         Nao|   CartaoCredito|        18.95|\n",
            "| 12|  Nao|         0|    Sim|        Nao|             58|         Sim|                     Sim|FibraOptica|               Nao|               Nao|               Sim|               Nao|               Sim|               Sim|       UmAno|         Nao|   CartaoCredito|       100.35|\n",
            "| 13|  Sim|         0|    Nao|        Nao|             49|         Sim|                     Sim|FibraOptica|               Nao|               Sim|               Sim|               Nao|               Sim|               Sim| Mensalmente|         Sim|   DebitoEmConta|        103.7|\n",
            "| 14|  Nao|         0|    Nao|        Nao|             25|         Sim|                     Nao|FibraOptica|               Sim|               Nao|               Sim|               Sim|               Sim|               Sim| Mensalmente|         Sim|BoletoEletronico|        105.5|\n",
            "| 15|  Nao|         0|    Sim|        Sim|             69|         Sim|                     Sim|FibraOptica|               Sim|               Sim|               Sim|               Sim|               Sim|               Sim|    DoisAnos|         Nao|   CartaoCredito|       113.25|\n",
            "| 16|  Nao|         0|    Nao|        Nao|             52|         Sim|                     Nao|        Nao|SemServicoInternet|SemServicoInternet|SemServicoInternet|SemServicoInternet|SemServicoInternet|SemServicoInternet|       UmAno|         Nao|          Boleto|        20.65|\n",
            "| 17|  Nao|         0|    Nao|        Sim|             71|         Sim|                     Sim|FibraOptica|               Sim|               Nao|               Sim|               Nao|               Sim|               Sim|    DoisAnos|         Nao|   DebitoEmConta|        106.7|\n",
            "| 18|  Sim|         0|    Sim|        Sim|             10|         Sim|                     Nao|        DSL|               Nao|               Nao|               Sim|               Sim|               Nao|               Nao| Mensalmente|         Nao|   CartaoCredito|         55.2|\n",
            "| 19|  Nao|         0|    Nao|        Nao|             21|         Sim|                     Nao|FibraOptica|               Nao|               Sim|               Sim|               Nao|               Nao|               Sim| Mensalmente|         Sim|BoletoEletronico|        90.05|\n",
            "+---+-----+----------+-------+-----------+---------------+------------+------------------------+-----------+------------------+------------------+------------------+------------------+------------------+------------------+------------+------------+----------------+-------------+\n",
            "only showing top 20 rows\n",
            "\n"
          ]
        }
      ]
    },
    {
      "cell_type": "code",
      "source": [
        "# agrupamento dos dados\n",
        "dados.groupBy('Churn').count().show()"
      ],
      "metadata": {
        "colab": {
          "base_uri": "https://localhost:8080/"
        },
        "id": "dG-tq1PnAB3q",
        "outputId": "7818b344-8021-4679-a984-b0ca0f09ecc8"
      },
      "execution_count": 5,
      "outputs": [
        {
          "output_type": "stream",
          "name": "stdout",
          "text": [
            "+-----+-----+\n",
            "|Churn|count|\n",
            "+-----+-----+\n",
            "|  Sim| 5174|\n",
            "|  Nao| 5174|\n",
            "+-----+-----+\n",
            "\n"
          ]
        }
      ]
    },
    {
      "cell_type": "code",
      "source": [
        "# mostra o schema dos dados\n",
        "dados.printSchema()"
      ],
      "metadata": {
        "colab": {
          "base_uri": "https://localhost:8080/"
        },
        "id": "GpVBIUceAh5j",
        "outputId": "02db91cc-bc08-4c26-f2e3-849340ea5255"
      },
      "execution_count": 6,
      "outputs": [
        {
          "output_type": "stream",
          "name": "stdout",
          "text": [
            "root\n",
            " |-- id: integer (nullable = true)\n",
            " |-- Churn: string (nullable = true)\n",
            " |-- Mais65anos: integer (nullable = true)\n",
            " |-- Conjuge: string (nullable = true)\n",
            " |-- Dependentes: string (nullable = true)\n",
            " |-- MesesDeContrato: integer (nullable = true)\n",
            " |-- TelefoneFixo: string (nullable = true)\n",
            " |-- MaisDeUmaLinhaTelefonica: string (nullable = true)\n",
            " |-- Internet: string (nullable = true)\n",
            " |-- SegurancaOnline: string (nullable = true)\n",
            " |-- BackupOnline: string (nullable = true)\n",
            " |-- SeguroDispositivo: string (nullable = true)\n",
            " |-- SuporteTecnico: string (nullable = true)\n",
            " |-- TVaCabo: string (nullable = true)\n",
            " |-- StreamingFilmes: string (nullable = true)\n",
            " |-- TipoContrato: string (nullable = true)\n",
            " |-- ContaCorreio: string (nullable = true)\n",
            " |-- MetodoPagamento: string (nullable = true)\n",
            " |-- MesesCobrados: double (nullable = true)\n",
            "\n"
          ]
        }
      ]
    },
    {
      "cell_type": "markdown",
      "source": [
        "Tratamento dos dados"
      ],
      "metadata": {
        "id": "MQj-w5VAA8xP"
      }
    },
    {
      "cell_type": "code",
      "source": [
        "# separar as colunas binárias\n",
        "colunasBinarias = [\n",
        "    'Churn',\n",
        "    'Conjuge',\n",
        "    'Dependentes',\n",
        "    'TelefoneFixo',\n",
        "    'MaisDeUmaLinhaTelefonica',\n",
        "    'SegurancaOnline',\n",
        "    'BackupOnline',\n",
        "    'SeguroDispositivo',\n",
        "    'SuporteTecnico',\n",
        "    'TVaCabo',\n",
        "    'StreamingFilmes',\n",
        "    'ContaCorreio'\n",
        "]"
      ],
      "metadata": {
        "id": "wBoBG9ZTAlg9"
      },
      "execution_count": 7,
      "outputs": []
    },
    {
      "cell_type": "code",
      "source": [
        "from pyspark.sql import functions as f"
      ],
      "metadata": {
        "id": "UuosJWbTCOpU"
      },
      "execution_count": 8,
      "outputs": []
    },
    {
      "cell_type": "code",
      "source": [
        "# criando regra para transformação dos dados\n",
        "todasColunas = [f.when(f.col(c)=='Sim',1).otherwise(0).alias(c) for c in colunasBinarias]"
      ],
      "metadata": {
        "id": "grwE_l96BoKQ"
      },
      "execution_count": 9,
      "outputs": []
    },
    {
      "cell_type": "code",
      "source": [
        "# os dados binários ficarão no final, por isso usamos reversed\n",
        "for coluna in reversed(dados.columns):\n",
        "  if coluna not in colunasBinarias:\n",
        "    todasColunas.insert(0,coluna) # insere na primeira pos e recebe coluna como valor\n",
        "\n",
        "todasColunas"
      ],
      "metadata": {
        "colab": {
          "base_uri": "https://localhost:8080/"
        },
        "id": "jizflzYDC1HP",
        "outputId": "c7a4c3b4-ac97-419d-88f6-8ccf221cf920"
      },
      "execution_count": 10,
      "outputs": [
        {
          "output_type": "execute_result",
          "data": {
            "text/plain": [
              "['id',\n",
              " 'Mais65anos',\n",
              " 'MesesDeContrato',\n",
              " 'Internet',\n",
              " 'TipoContrato',\n",
              " 'MetodoPagamento',\n",
              " 'MesesCobrados',\n",
              " Column<'CASE WHEN (Churn = Sim) THEN 1 ELSE 0 END AS Churn'>,\n",
              " Column<'CASE WHEN (Conjuge = Sim) THEN 1 ELSE 0 END AS Conjuge'>,\n",
              " Column<'CASE WHEN (Dependentes = Sim) THEN 1 ELSE 0 END AS Dependentes'>,\n",
              " Column<'CASE WHEN (TelefoneFixo = Sim) THEN 1 ELSE 0 END AS TelefoneFixo'>,\n",
              " Column<'CASE WHEN (MaisDeUmaLinhaTelefonica = Sim) THEN 1 ELSE 0 END AS MaisDeUmaLinhaTelefonica'>,\n",
              " Column<'CASE WHEN (SegurancaOnline = Sim) THEN 1 ELSE 0 END AS SegurancaOnline'>,\n",
              " Column<'CASE WHEN (BackupOnline = Sim) THEN 1 ELSE 0 END AS BackupOnline'>,\n",
              " Column<'CASE WHEN (SeguroDispositivo = Sim) THEN 1 ELSE 0 END AS SeguroDispositivo'>,\n",
              " Column<'CASE WHEN (SuporteTecnico = Sim) THEN 1 ELSE 0 END AS SuporteTecnico'>,\n",
              " Column<'CASE WHEN (TVaCabo = Sim) THEN 1 ELSE 0 END AS TVaCabo'>,\n",
              " Column<'CASE WHEN (StreamingFilmes = Sim) THEN 1 ELSE 0 END AS StreamingFilmes'>,\n",
              " Column<'CASE WHEN (ContaCorreio = Sim) THEN 1 ELSE 0 END AS ContaCorreio'>]"
            ]
          },
          "metadata": {},
          "execution_count": 10
        }
      ]
    },
    {
      "cell_type": "code",
      "source": [
        "dados.select(todasColunas).show()"
      ],
      "metadata": {
        "colab": {
          "base_uri": "https://localhost:8080/"
        },
        "id": "TbHXBQOiC3a7",
        "outputId": "e9f9495a-09b4-4e30-f82d-b622199a88d8"
      },
      "execution_count": 11,
      "outputs": [
        {
          "output_type": "stream",
          "name": "stdout",
          "text": [
            "+---+----------+---------------+-----------+------------+----------------+-------------+-----+-------+-----------+------------+------------------------+---------------+------------+-----------------+--------------+-------+---------------+------------+\n",
            "| id|Mais65anos|MesesDeContrato|   Internet|TipoContrato| MetodoPagamento|MesesCobrados|Churn|Conjuge|Dependentes|TelefoneFixo|MaisDeUmaLinhaTelefonica|SegurancaOnline|BackupOnline|SeguroDispositivo|SuporteTecnico|TVaCabo|StreamingFilmes|ContaCorreio|\n",
            "+---+----------+---------------+-----------+------------+----------------+-------------+-----+-------+-----------+------------+------------------------+---------------+------------+-----------------+--------------+-------+---------------+------------+\n",
            "|  0|         0|              1|        DSL| Mensalmente|BoletoEletronico|        29.85|    0|      1|          0|           0|                       0|              0|           1|                0|             0|      0|              0|           1|\n",
            "|  1|         0|             34|        DSL|       UmAno|          Boleto|        56.95|    0|      0|          0|           1|                       0|              1|           0|                1|             0|      0|              0|           0|\n",
            "|  2|         0|              2|        DSL| Mensalmente|          Boleto|        53.85|    1|      0|          0|           1|                       0|              1|           1|                0|             0|      0|              0|           1|\n",
            "|  3|         0|             45|        DSL|       UmAno|   DebitoEmConta|         42.3|    0|      0|          0|           0|                       0|              1|           0|                1|             1|      0|              0|           0|\n",
            "|  4|         0|              2|FibraOptica| Mensalmente|BoletoEletronico|         70.7|    1|      0|          0|           1|                       0|              0|           0|                0|             0|      0|              0|           1|\n",
            "|  5|         0|              8|FibraOptica| Mensalmente|BoletoEletronico|        99.65|    1|      0|          0|           1|                       1|              0|           0|                1|             0|      1|              1|           1|\n",
            "|  6|         0|             22|FibraOptica| Mensalmente|   CartaoCredito|         89.1|    0|      0|          1|           1|                       1|              0|           1|                0|             0|      1|              0|           1|\n",
            "|  7|         0|             10|        DSL| Mensalmente|          Boleto|        29.75|    0|      0|          0|           0|                       0|              1|           0|                0|             0|      0|              0|           0|\n",
            "|  8|         0|             28|FibraOptica| Mensalmente|BoletoEletronico|        104.8|    1|      1|          0|           1|                       1|              0|           0|                1|             1|      1|              1|           1|\n",
            "|  9|         0|             62|        DSL|       UmAno|   DebitoEmConta|        56.15|    0|      0|          1|           1|                       0|              1|           1|                0|             0|      0|              0|           0|\n",
            "| 10|         0|             13|        DSL| Mensalmente|          Boleto|        49.95|    0|      1|          1|           1|                       0|              1|           0|                0|             0|      0|              0|           1|\n",
            "| 11|         0|             16|        Nao|    DoisAnos|   CartaoCredito|        18.95|    0|      0|          0|           1|                       0|              0|           0|                0|             0|      0|              0|           0|\n",
            "| 12|         0|             58|FibraOptica|       UmAno|   CartaoCredito|       100.35|    0|      1|          0|           1|                       1|              0|           0|                1|             0|      1|              1|           0|\n",
            "| 13|         0|             49|FibraOptica| Mensalmente|   DebitoEmConta|        103.7|    1|      0|          0|           1|                       1|              0|           1|                1|             0|      1|              1|           1|\n",
            "| 14|         0|             25|FibraOptica| Mensalmente|BoletoEletronico|        105.5|    0|      0|          0|           1|                       0|              1|           0|                1|             1|      1|              1|           1|\n",
            "| 15|         0|             69|FibraOptica|    DoisAnos|   CartaoCredito|       113.25|    0|      1|          1|           1|                       1|              1|           1|                1|             1|      1|              1|           0|\n",
            "| 16|         0|             52|        Nao|       UmAno|          Boleto|        20.65|    0|      0|          0|           1|                       0|              0|           0|                0|             0|      0|              0|           0|\n",
            "| 17|         0|             71|FibraOptica|    DoisAnos|   DebitoEmConta|        106.7|    0|      0|          1|           1|                       1|              1|           0|                1|             0|      1|              1|           0|\n",
            "| 18|         0|             10|        DSL| Mensalmente|   CartaoCredito|         55.2|    1|      1|          1|           1|                       0|              0|           0|                1|             1|      0|              0|           0|\n",
            "| 19|         0|             21|FibraOptica| Mensalmente|BoletoEletronico|        90.05|    0|      0|          0|           1|                       0|              0|           1|                1|             0|      0|              1|           1|\n",
            "+---+----------+---------------+-----------+------------+----------------+-------------+-----+-------+-----------+------------+------------------------+---------------+------------+-----------------+--------------+-------+---------------+------------+\n",
            "only showing top 20 rows\n",
            "\n"
          ]
        }
      ]
    },
    {
      "cell_type": "code",
      "source": [
        "dataset = dados.select(todasColunas)"
      ],
      "metadata": {
        "id": "SlN50EIgF76j"
      },
      "execution_count": 12,
      "outputs": []
    },
    {
      "cell_type": "code",
      "source": [
        "dataset.printSchema()"
      ],
      "metadata": {
        "colab": {
          "base_uri": "https://localhost:8080/"
        },
        "id": "vQOkSKa5GPdA",
        "outputId": "848fa9ec-191c-4dee-c56c-d7f391925d5b"
      },
      "execution_count": 13,
      "outputs": [
        {
          "output_type": "stream",
          "name": "stdout",
          "text": [
            "root\n",
            " |-- id: integer (nullable = true)\n",
            " |-- Mais65anos: integer (nullable = true)\n",
            " |-- MesesDeContrato: integer (nullable = true)\n",
            " |-- Internet: string (nullable = true)\n",
            " |-- TipoContrato: string (nullable = true)\n",
            " |-- MetodoPagamento: string (nullable = true)\n",
            " |-- MesesCobrados: double (nullable = true)\n",
            " |-- Churn: integer (nullable = false)\n",
            " |-- Conjuge: integer (nullable = false)\n",
            " |-- Dependentes: integer (nullable = false)\n",
            " |-- TelefoneFixo: integer (nullable = false)\n",
            " |-- MaisDeUmaLinhaTelefonica: integer (nullable = false)\n",
            " |-- SegurancaOnline: integer (nullable = false)\n",
            " |-- BackupOnline: integer (nullable = false)\n",
            " |-- SeguroDispositivo: integer (nullable = false)\n",
            " |-- SuporteTecnico: integer (nullable = false)\n",
            " |-- TVaCabo: integer (nullable = false)\n",
            " |-- StreamingFilmes: integer (nullable = false)\n",
            " |-- ContaCorreio: integer (nullable = false)\n",
            "\n"
          ]
        }
      ]
    },
    {
      "cell_type": "markdown",
      "source": [
        "Criando Dummies"
      ],
      "metadata": {
        "id": "kaCBqhb2GnjN"
      }
    },
    {
      "cell_type": "code",
      "source": [
        "dados.select(['Internet','TipoContrato','MetodoPagamento']).show()"
      ],
      "metadata": {
        "colab": {
          "base_uri": "https://localhost:8080/"
        },
        "id": "j8TB0X8dGUeb",
        "outputId": "3796a32b-46ad-47c5-8d1b-493e1ecc9653"
      },
      "execution_count": 14,
      "outputs": [
        {
          "output_type": "stream",
          "name": "stdout",
          "text": [
            "+-----------+------------+----------------+\n",
            "|   Internet|TipoContrato| MetodoPagamento|\n",
            "+-----------+------------+----------------+\n",
            "|        DSL| Mensalmente|BoletoEletronico|\n",
            "|        DSL|       UmAno|          Boleto|\n",
            "|        DSL| Mensalmente|          Boleto|\n",
            "|        DSL|       UmAno|   DebitoEmConta|\n",
            "|FibraOptica| Mensalmente|BoletoEletronico|\n",
            "|FibraOptica| Mensalmente|BoletoEletronico|\n",
            "|FibraOptica| Mensalmente|   CartaoCredito|\n",
            "|        DSL| Mensalmente|          Boleto|\n",
            "|FibraOptica| Mensalmente|BoletoEletronico|\n",
            "|        DSL|       UmAno|   DebitoEmConta|\n",
            "|        DSL| Mensalmente|          Boleto|\n",
            "|        Nao|    DoisAnos|   CartaoCredito|\n",
            "|FibraOptica|       UmAno|   CartaoCredito|\n",
            "|FibraOptica| Mensalmente|   DebitoEmConta|\n",
            "|FibraOptica| Mensalmente|BoletoEletronico|\n",
            "|FibraOptica|    DoisAnos|   CartaoCredito|\n",
            "|        Nao|       UmAno|          Boleto|\n",
            "|FibraOptica|    DoisAnos|   DebitoEmConta|\n",
            "|        DSL| Mensalmente|   CartaoCredito|\n",
            "|FibraOptica| Mensalmente|BoletoEletronico|\n",
            "+-----------+------------+----------------+\n",
            "only showing top 20 rows\n",
            "\n"
          ]
        }
      ]
    },
    {
      "cell_type": "code",
      "source": [
        "dataset.groupBy('id').pivot('Internet').agg(f.lit(1)).na.fill(0).show()"
      ],
      "metadata": {
        "colab": {
          "base_uri": "https://localhost:8080/"
        },
        "id": "DPao9Wx3GzBe",
        "outputId": "d0f20e1e-c4c3-408b-c7c7-cbe291e91e62"
      },
      "execution_count": 15,
      "outputs": [
        {
          "output_type": "stream",
          "name": "stdout",
          "text": [
            "+----+---+-----------+---+\n",
            "|  id|DSL|FibraOptica|Nao|\n",
            "+----+---+-----------+---+\n",
            "|7982|  1|          0|  0|\n",
            "|9465|  0|          1|  0|\n",
            "|2122|  1|          0|  0|\n",
            "|3997|  1|          0|  0|\n",
            "|6654|  0|          1|  0|\n",
            "|7880|  0|          1|  0|\n",
            "|4519|  0|          1|  0|\n",
            "|6466|  0|          1|  0|\n",
            "| 496|  1|          0|  0|\n",
            "|7833|  0|          1|  0|\n",
            "|1591|  0|          0|  1|\n",
            "|2866|  0|          1|  0|\n",
            "|8592|  0|          1|  0|\n",
            "|1829|  0|          1|  0|\n",
            "| 463|  0|          1|  0|\n",
            "|4900|  0|          1|  0|\n",
            "|4818|  0|          1|  0|\n",
            "|7554|  1|          0|  0|\n",
            "|1342|  0|          0|  1|\n",
            "|5300|  0|          1|  0|\n",
            "+----+---+-----------+---+\n",
            "only showing top 20 rows\n",
            "\n"
          ]
        }
      ]
    },
    {
      "cell_type": "code",
      "source": [
        "# criando variáveis dummies para cada coluna multicategórica\n",
        "Internet = dataset.groupBy('id').pivot('Internet').agg(f.lit(1)).na.fill(0)\n",
        "TipoContrato = dataset.groupBy('id').pivot('TipoContrato').agg(f.lit(1)).na.fill(0)\n",
        "MetodoPagamento = dataset.groupBy('id').pivot('MetodoPagamento').agg(f.lit(1)).na.fill(0)"
      ],
      "metadata": {
        "id": "iJNxrRtuHo6Z"
      },
      "execution_count": 16,
      "outputs": []
    },
    {
      "cell_type": "code",
      "source": [
        "# juntando as tabelas e removendo as colunas desnecessárias\n",
        "dataset = dataset\\\n",
        "  .join(Internet,'id',how='inner')\\\n",
        "  .join(TipoContrato,'id',how='inner')\\\n",
        "  .join(MetodoPagamento,'id',how='inner')\\\n",
        "  .select(\n",
        "      '*',\n",
        "      f.col('DSL').alias('Internet_DSL'),\n",
        "      f.col('FibraOptica').alias('Internet_FibraOptica'),\n",
        "      f.col('Nao').alias('Internet_Nao'),\n",
        "      f.col('Mensalmente').alias('TipoContrato_Mensalmente'),\n",
        "      f.col('UmAno').alias('TipoContrato_UmAno'),\n",
        "      f.col('DoisAnos').alias('TipoContrato_DoisAnos'),\n",
        "      f.col('DebitoEmConta').alias('MetodoPagamento_DebitoEmConta'),\n",
        "      f.col('CartaoCredito').alias('MetodoPagamento_CartaoCredito'),\n",
        "      f.col('BoletoEletronico').alias('MetodoPagamento_BoletoEletronico'),\n",
        "      f.col('Boleto').alias('MetodoPagamento_Boleto')\n",
        "    )\\\n",
        "    .drop(\n",
        "        'Internet','TipoContrato','MetodoPagamento','DSL',\n",
        "        'FibraOptica','Nao','Mensalmente','UmAno','DoisAnos',\n",
        "        'DebitoEmConta','CartaoCredito','BoletoEletronico','Boleto'\n",
        "    )"
      ],
      "metadata": {
        "id": "mCgDxKqPQQu9"
      },
      "execution_count": 17,
      "outputs": []
    },
    {
      "cell_type": "code",
      "source": [
        "# visualizando o novo dataset\n",
        "dataset.show()"
      ],
      "metadata": {
        "colab": {
          "base_uri": "https://localhost:8080/"
        },
        "id": "zyvOXZT-RLOW",
        "outputId": "6b7bcac5-c58d-4261-b658-cb19e4130374"
      },
      "execution_count": 18,
      "outputs": [
        {
          "output_type": "stream",
          "name": "stdout",
          "text": [
            "+----+----------+---------------+-----------------+-----+-------+-----------+------------+------------------------+---------------+------------+-----------------+--------------+-------+---------------+------------+------------+--------------------+------------+------------------------+------------------+---------------------+-----------------------------+-----------------------------+--------------------------------+----------------------+\n",
            "|  id|Mais65anos|MesesDeContrato|    MesesCobrados|Churn|Conjuge|Dependentes|TelefoneFixo|MaisDeUmaLinhaTelefonica|SegurancaOnline|BackupOnline|SeguroDispositivo|SuporteTecnico|TVaCabo|StreamingFilmes|ContaCorreio|Internet_DSL|Internet_FibraOptica|Internet_Nao|TipoContrato_Mensalmente|TipoContrato_UmAno|TipoContrato_DoisAnos|MetodoPagamento_DebitoEmConta|MetodoPagamento_CartaoCredito|MetodoPagamento_BoletoEletronico|MetodoPagamento_Boleto|\n",
            "+----+----------+---------------+-----------------+-----+-------+-----------+------------+------------------------+---------------+------------+-----------------+--------------+-------+---------------+------------+------------+--------------------+------------+------------------------+------------------+---------------------+-----------------------------+-----------------------------+--------------------------------+----------------------+\n",
            "|7982|         0|              1|45.30540797610398|    1|      0|          0|           0|                       0|              0|           0|                0|             0|      1|              1|           1|           1|                   0|           0|                       1|                 0|                    0|                            0|                            0|                               1|                     0|\n",
            "|9465|         0|             60|103.6142230120257|    1|      1|          0|           1|                       1|              0|           1|                1|             0|      1|              1|           1|           0|                   1|           0|                       1|                 0|                    0|                            0|                            0|                               1|                     0|\n",
            "|2122|         0|             12|            75.85|    0|      0|          0|           1|                       1|              0|           0|                0|             1|      1|              1|           1|           1|                   0|           0|                       0|                 1|                    0|                            0|                            0|                               0|                     1|\n",
            "|3997|         0|             69|            61.45|    0|      1|          0|           1|                       0|              0|           1|                0|             0|      0|              1|           1|           1|                   0|           0|                       0|                 0|                    1|                            0|                            1|                               0|                     0|\n",
            "|6654|         0|              7|             86.5|    1|      1|          0|           1|                       1|              0|           0|                0|             0|      1|              0|           1|           0|                   1|           0|                       1|                 0|                    0|                            0|                            0|                               1|                     0|\n",
            "|7880|         0|             14|85.03742670311915|    1|      0|          0|           1|                       1|              0|           0|                0|             0|      0|              1|           1|           0|                   1|           0|                       1|                 0|                    0|                            0|                            0|                               1|                     0|\n",
            "|4519|         0|             57|            109.4|    0|      1|          0|           1|                       1|              0|           1|                1|             1|      1|              1|           1|           0|                   1|           0|                       0|                 1|                    0|                            1|                            0|                               0|                     0|\n",
            "|6466|         0|             18|            74.15|    0|      0|          0|           1|                       1|              0|           0|                0|             0|      0|              0|           0|           0|                   1|           0|                       1|                 0|                    0|                            0|                            0|                               0|                     1|\n",
            "| 496|         0|             28|             60.9|    0|      1|          0|           1|                       0|              1|           1|                0|             1|      0|              0|           0|           1|                   0|           0|                       1|                 0|                    0|                            0|                            0|                               0|                     1|\n",
            "|7833|         0|             46| 80.8824189403559|    1|      1|          0|           1|                       0|              0|           0|                0|             0|      0|              1|           1|           0|                   1|           0|                       1|                 0|                    0|                            0|                            0|                               1|                     0|\n",
            "|1591|         0|             17|             21.1|    0|      0|          0|           1|                       0|              0|           0|                0|             0|      0|              0|           0|           0|                   0|           1|                       1|                 0|                    0|                            0|                            1|                               0|                     0|\n",
            "|2866|         0|             12|             84.6|    0|      0|          0|           1|                       0|              0|           1|                0|             0|      0|              1|           1|           0|                   1|           0|                       1|                 0|                    0|                            0|                            0|                               1|                     0|\n",
            "|8592|         0|              5|82.71735660557214|    1|      1|          0|           1|                       1|              0|           0|                0|             0|      1|              0|           1|           0|                   1|           0|                       1|                 0|                    0|                            0|                            0|                               1|                     0|\n",
            "|1829|         0|              8|            74.85|    0|      0|          0|           1|                       1|              0|           0|                0|             0|      0|              0|           1|           0|                   1|           0|                       1|                 0|                    0|                            0|                            0|                               1|                     0|\n",
            "| 463|         0|              7|             99.8|    1|      0|          0|           1|                       1|              0|           1|                0|             0|      1|              1|           1|           0|                   1|           0|                       1|                 0|                    0|                            0|                            0|                               1|                     0|\n",
            "|4900|         1|             37|             85.7|    1|      1|          0|           1|                       1|              0|           0|                0|             0|      1|              0|           1|           0|                   1|           0|                       1|                 0|                    0|                            0|                            0|                               1|                     0|\n",
            "|4818|         1|             64|             80.3|    0|      1|          0|           1|                       0|              1|           0|                1|             0|      0|              0|           0|           0|                   1|           0|                       0|                 1|                    0|                            0|                            1|                               0|                     0|\n",
            "|7554|         0|              1|50.74303124820026|    1|      0|          0|           1|                       0|              0|           1|                0|             0|      0|              0|           0|           1|                   0|           0|                       1|                 0|                    0|                            0|                            0|                               1|                     0|\n",
            "|1342|         0|              8|             20.0|    0|      0|          0|           1|                       0|              0|           0|                0|             0|      0|              0|           0|           0|                   0|           1|                       0|                 0|                    1|                            0|                            0|                               0|                     1|\n",
            "|5300|         0|              1|            80.05|    1|      1|          1|           1|                       0|              0|           0|                0|             0|      1|              0|           1|           0|                   1|           0|                       1|                 0|                    0|                            0|                            0|                               0|                     1|\n",
            "+----+----------+---------------+-----------------+-----+-------+-----------+------------+------------------------+---------------+------------+-----------------+--------------+-------+---------------+------------+------------+--------------------+------------+------------------------+------------------+---------------------+-----------------------------+-----------------------------+--------------------------------+----------------------+\n",
            "only showing top 20 rows\n",
            "\n"
          ]
        }
      ]
    },
    {
      "cell_type": "code",
      "source": [
        "# print do schema do dataset\n",
        "dataset.printSchema()"
      ],
      "metadata": {
        "colab": {
          "base_uri": "https://localhost:8080/"
        },
        "id": "lCI_CkZ7T6E9",
        "outputId": "de23e8a9-89ba-4103-d826-9e9817e5b77a"
      },
      "execution_count": 19,
      "outputs": [
        {
          "output_type": "stream",
          "name": "stdout",
          "text": [
            "root\n",
            " |-- id: integer (nullable = true)\n",
            " |-- Mais65anos: integer (nullable = true)\n",
            " |-- MesesDeContrato: integer (nullable = true)\n",
            " |-- MesesCobrados: double (nullable = true)\n",
            " |-- Churn: integer (nullable = false)\n",
            " |-- Conjuge: integer (nullable = false)\n",
            " |-- Dependentes: integer (nullable = false)\n",
            " |-- TelefoneFixo: integer (nullable = false)\n",
            " |-- MaisDeUmaLinhaTelefonica: integer (nullable = false)\n",
            " |-- SegurancaOnline: integer (nullable = false)\n",
            " |-- BackupOnline: integer (nullable = false)\n",
            " |-- SeguroDispositivo: integer (nullable = false)\n",
            " |-- SuporteTecnico: integer (nullable = false)\n",
            " |-- TVaCabo: integer (nullable = false)\n",
            " |-- StreamingFilmes: integer (nullable = false)\n",
            " |-- ContaCorreio: integer (nullable = false)\n",
            " |-- Internet_DSL: integer (nullable = true)\n",
            " |-- Internet_FibraOptica: integer (nullable = true)\n",
            " |-- Internet_Nao: integer (nullable = true)\n",
            " |-- TipoContrato_Mensalmente: integer (nullable = true)\n",
            " |-- TipoContrato_UmAno: integer (nullable = true)\n",
            " |-- TipoContrato_DoisAnos: integer (nullable = true)\n",
            " |-- MetodoPagamento_DebitoEmConta: integer (nullable = true)\n",
            " |-- MetodoPagamento_CartaoCredito: integer (nullable = true)\n",
            " |-- MetodoPagamento_BoletoEletronico: integer (nullable = true)\n",
            " |-- MetodoPagamento_Boleto: integer (nullable = true)\n",
            "\n"
          ]
        }
      ]
    },
    {
      "cell_type": "markdown",
      "source": [
        "# Criando o primeiro modelo"
      ],
      "metadata": {
        "id": "ImcP27vdpolI"
      }
    },
    {
      "cell_type": "code",
      "source": [
        "dataset.show()"
      ],
      "metadata": {
        "colab": {
          "base_uri": "https://localhost:8080/"
        },
        "id": "YdSNU2xCpsTY",
        "outputId": "babce621-99e4-4926-df27-b907b1609eb1"
      },
      "execution_count": 20,
      "outputs": [
        {
          "output_type": "stream",
          "name": "stdout",
          "text": [
            "+----+----------+---------------+-----------------+-----+-------+-----------+------------+------------------------+---------------+------------+-----------------+--------------+-------+---------------+------------+------------+--------------------+------------+------------------------+------------------+---------------------+-----------------------------+-----------------------------+--------------------------------+----------------------+\n",
            "|  id|Mais65anos|MesesDeContrato|    MesesCobrados|Churn|Conjuge|Dependentes|TelefoneFixo|MaisDeUmaLinhaTelefonica|SegurancaOnline|BackupOnline|SeguroDispositivo|SuporteTecnico|TVaCabo|StreamingFilmes|ContaCorreio|Internet_DSL|Internet_FibraOptica|Internet_Nao|TipoContrato_Mensalmente|TipoContrato_UmAno|TipoContrato_DoisAnos|MetodoPagamento_DebitoEmConta|MetodoPagamento_CartaoCredito|MetodoPagamento_BoletoEletronico|MetodoPagamento_Boleto|\n",
            "+----+----------+---------------+-----------------+-----+-------+-----------+------------+------------------------+---------------+------------+-----------------+--------------+-------+---------------+------------+------------+--------------------+------------+------------------------+------------------+---------------------+-----------------------------+-----------------------------+--------------------------------+----------------------+\n",
            "|7982|         0|              1|45.30540797610398|    1|      0|          0|           0|                       0|              0|           0|                0|             0|      1|              1|           1|           1|                   0|           0|                       1|                 0|                    0|                            0|                            0|                               1|                     0|\n",
            "|9465|         0|             60|103.6142230120257|    1|      1|          0|           1|                       1|              0|           1|                1|             0|      1|              1|           1|           0|                   1|           0|                       1|                 0|                    0|                            0|                            0|                               1|                     0|\n",
            "|2122|         0|             12|            75.85|    0|      0|          0|           1|                       1|              0|           0|                0|             1|      1|              1|           1|           1|                   0|           0|                       0|                 1|                    0|                            0|                            0|                               0|                     1|\n",
            "|3997|         0|             69|            61.45|    0|      1|          0|           1|                       0|              0|           1|                0|             0|      0|              1|           1|           1|                   0|           0|                       0|                 0|                    1|                            0|                            1|                               0|                     0|\n",
            "|6654|         0|              7|             86.5|    1|      1|          0|           1|                       1|              0|           0|                0|             0|      1|              0|           1|           0|                   1|           0|                       1|                 0|                    0|                            0|                            0|                               1|                     0|\n",
            "|7880|         0|             14|85.03742670311915|    1|      0|          0|           1|                       1|              0|           0|                0|             0|      0|              1|           1|           0|                   1|           0|                       1|                 0|                    0|                            0|                            0|                               1|                     0|\n",
            "|4519|         0|             57|            109.4|    0|      1|          0|           1|                       1|              0|           1|                1|             1|      1|              1|           1|           0|                   1|           0|                       0|                 1|                    0|                            1|                            0|                               0|                     0|\n",
            "|6466|         0|             18|            74.15|    0|      0|          0|           1|                       1|              0|           0|                0|             0|      0|              0|           0|           0|                   1|           0|                       1|                 0|                    0|                            0|                            0|                               0|                     1|\n",
            "| 496|         0|             28|             60.9|    0|      1|          0|           1|                       0|              1|           1|                0|             1|      0|              0|           0|           1|                   0|           0|                       1|                 0|                    0|                            0|                            0|                               0|                     1|\n",
            "|7833|         0|             46| 80.8824189403559|    1|      1|          0|           1|                       0|              0|           0|                0|             0|      0|              1|           1|           0|                   1|           0|                       1|                 0|                    0|                            0|                            0|                               1|                     0|\n",
            "|1591|         0|             17|             21.1|    0|      0|          0|           1|                       0|              0|           0|                0|             0|      0|              0|           0|           0|                   0|           1|                       1|                 0|                    0|                            0|                            1|                               0|                     0|\n",
            "|2866|         0|             12|             84.6|    0|      0|          0|           1|                       0|              0|           1|                0|             0|      0|              1|           1|           0|                   1|           0|                       1|                 0|                    0|                            0|                            0|                               1|                     0|\n",
            "|8592|         0|              5|82.71735660557214|    1|      1|          0|           1|                       1|              0|           0|                0|             0|      1|              0|           1|           0|                   1|           0|                       1|                 0|                    0|                            0|                            0|                               1|                     0|\n",
            "|1829|         0|              8|            74.85|    0|      0|          0|           1|                       1|              0|           0|                0|             0|      0|              0|           1|           0|                   1|           0|                       1|                 0|                    0|                            0|                            0|                               1|                     0|\n",
            "| 463|         0|              7|             99.8|    1|      0|          0|           1|                       1|              0|           1|                0|             0|      1|              1|           1|           0|                   1|           0|                       1|                 0|                    0|                            0|                            0|                               1|                     0|\n",
            "|4900|         1|             37|             85.7|    1|      1|          0|           1|                       1|              0|           0|                0|             0|      1|              0|           1|           0|                   1|           0|                       1|                 0|                    0|                            0|                            0|                               1|                     0|\n",
            "|4818|         1|             64|             80.3|    0|      1|          0|           1|                       0|              1|           0|                1|             0|      0|              0|           0|           0|                   1|           0|                       0|                 1|                    0|                            0|                            1|                               0|                     0|\n",
            "|7554|         0|              1|50.74303124820026|    1|      0|          0|           1|                       0|              0|           1|                0|             0|      0|              0|           0|           1|                   0|           0|                       1|                 0|                    0|                            0|                            0|                               1|                     0|\n",
            "|1342|         0|              8|             20.0|    0|      0|          0|           1|                       0|              0|           0|                0|             0|      0|              0|           0|           0|                   0|           1|                       0|                 0|                    1|                            0|                            0|                               0|                     1|\n",
            "|5300|         0|              1|            80.05|    1|      1|          1|           1|                       0|              0|           0|                0|             0|      1|              0|           1|           0|                   1|           0|                       1|                 0|                    0|                            0|                            0|                               0|                     1|\n",
            "+----+----------+---------------+-----------------+-----+-------+-----------+------------+------------------------+---------------+------------+-----------------+--------------+-------+---------------+------------+------------+--------------------+------------+------------------------+------------------+---------------------+-----------------------------+-----------------------------+--------------------------------+----------------------+\n",
            "only showing top 20 rows\n",
            "\n"
          ]
        }
      ]
    },
    {
      "cell_type": "code",
      "source": [
        "from pyspark.ml.feature import VectorAssembler"
      ],
      "metadata": {
        "id": "DJ45niQRpvQJ"
      },
      "execution_count": 21,
      "outputs": []
    },
    {
      "cell_type": "code",
      "source": [
        "# mudando a coluna target para o nome ideal que o VectorAssembler espera\n",
        "dataset = dataset.withColumnRenamed('Churn','label')"
      ],
      "metadata": {
        "id": "6-S0yjXJp9eH"
      },
      "execution_count": 22,
      "outputs": []
    },
    {
      "cell_type": "code",
      "source": [
        "# lista com o nome das colunas que são features\n",
        "X = dataset.columns\n",
        "X.remove('label')\n",
        "X.remove('id')\n",
        "X"
      ],
      "metadata": {
        "colab": {
          "base_uri": "https://localhost:8080/"
        },
        "id": "OmKT5JzeqU7Z",
        "outputId": "b9337f55-9f67-4ac8-b87d-addf056d8b23"
      },
      "execution_count": 23,
      "outputs": [
        {
          "output_type": "execute_result",
          "data": {
            "text/plain": [
              "['Mais65anos',\n",
              " 'MesesDeContrato',\n",
              " 'MesesCobrados',\n",
              " 'Conjuge',\n",
              " 'Dependentes',\n",
              " 'TelefoneFixo',\n",
              " 'MaisDeUmaLinhaTelefonica',\n",
              " 'SegurancaOnline',\n",
              " 'BackupOnline',\n",
              " 'SeguroDispositivo',\n",
              " 'SuporteTecnico',\n",
              " 'TVaCabo',\n",
              " 'StreamingFilmes',\n",
              " 'ContaCorreio',\n",
              " 'Internet_DSL',\n",
              " 'Internet_FibraOptica',\n",
              " 'Internet_Nao',\n",
              " 'TipoContrato_Mensalmente',\n",
              " 'TipoContrato_UmAno',\n",
              " 'TipoContrato_DoisAnos',\n",
              " 'MetodoPagamento_DebitoEmConta',\n",
              " 'MetodoPagamento_CartaoCredito',\n",
              " 'MetodoPagamento_BoletoEletronico',\n",
              " 'MetodoPagamento_Boleto']"
            ]
          },
          "metadata": {},
          "execution_count": 23
        }
      ]
    },
    {
      "cell_type": "code",
      "source": [
        "# input: dados de entrada\n",
        "# output: nome dado a coluna única com o vetor de características\n",
        "\n",
        "assembler = VectorAssembler(inputCols=X,outputCol='features')"
      ],
      "metadata": {
        "id": "K70QuaUqq01k"
      },
      "execution_count": 24,
      "outputs": []
    },
    {
      "cell_type": "code",
      "source": [
        "dataset_prep = assembler.transform(dataset).select('features','label')"
      ],
      "metadata": {
        "id": "lzjt6f7Grn0f"
      },
      "execution_count": 25,
      "outputs": []
    },
    {
      "cell_type": "code",
      "source": [
        "dataset_prep.show(10,truncate=False)"
      ],
      "metadata": {
        "colab": {
          "base_uri": "https://localhost:8080/"
        },
        "id": "8RaTAEW7r06I",
        "outputId": "a0e0cadd-ba88-4cb8-e57f-7bdc15555bf3"
      },
      "execution_count": 26,
      "outputs": [
        {
          "output_type": "stream",
          "name": "stdout",
          "text": [
            "+-----------------------------------------------------------------------------------------------------------+-----+\n",
            "|features                                                                                                   |label|\n",
            "+-----------------------------------------------------------------------------------------------------------+-----+\n",
            "|(24,[1,2,11,12,13,14,17,22],[1.0,45.30540797610398,1.0,1.0,1.0,1.0,1.0,1.0])                               |1    |\n",
            "|(24,[1,2,3,5,6,8,9,11,12,13,15,17,22],[60.0,103.6142230120257,1.0,1.0,1.0,1.0,1.0,1.0,1.0,1.0,1.0,1.0,1.0])|1    |\n",
            "|(24,[1,2,5,6,10,11,12,13,14,18,23],[12.0,75.85,1.0,1.0,1.0,1.0,1.0,1.0,1.0,1.0,1.0])                       |0    |\n",
            "|(24,[1,2,3,5,8,12,13,14,19,21],[69.0,61.45,1.0,1.0,1.0,1.0,1.0,1.0,1.0,1.0])                               |0    |\n",
            "|(24,[1,2,3,5,6,11,13,15,17,22],[7.0,86.5,1.0,1.0,1.0,1.0,1.0,1.0,1.0,1.0])                                 |1    |\n",
            "|(24,[1,2,5,6,12,13,15,17,22],[14.0,85.03742670311915,1.0,1.0,1.0,1.0,1.0,1.0,1.0])                         |1    |\n",
            "|(24,[1,2,3,5,6,8,9,10,11,12,13,15,18,20],[57.0,109.4,1.0,1.0,1.0,1.0,1.0,1.0,1.0,1.0,1.0,1.0,1.0,1.0])     |0    |\n",
            "|(24,[1,2,5,6,15,17,23],[18.0,74.15,1.0,1.0,1.0,1.0,1.0])                                                   |0    |\n",
            "|(24,[1,2,3,5,7,8,10,14,17,23],[28.0,60.9,1.0,1.0,1.0,1.0,1.0,1.0,1.0,1.0])                                 |0    |\n",
            "|(24,[1,2,3,5,12,13,15,17,22],[46.0,80.8824189403559,1.0,1.0,1.0,1.0,1.0,1.0,1.0])                          |1    |\n",
            "+-----------------------------------------------------------------------------------------------------------+-----+\n",
            "only showing top 10 rows\n",
            "\n"
          ]
        }
      ]
    },
    {
      "cell_type": "markdown",
      "source": [
        "Ajuste e previsão"
      ],
      "metadata": {
        "id": "rkRAWN4y05Lz"
      }
    },
    {
      "cell_type": "code",
      "source": [
        "# cria a variável seed, para garantir a reprodutibilidade dos resultados\n",
        "SEED=101"
      ],
      "metadata": {
        "id": "s5BUzzXn1R10"
      },
      "execution_count": 27,
      "outputs": []
    },
    {
      "cell_type": "code",
      "source": [
        "# separa os dados de treino e teste na proporção 70/30\n",
        "treino, teste = dataset_prep.randomSplit([0.7,0.3], seed=SEED)"
      ],
      "metadata": {
        "id": "IRS1sr0or7DY"
      },
      "execution_count": 28,
      "outputs": []
    },
    {
      "cell_type": "code",
      "source": [
        "from pyspark.ml.classification import LogisticRegression"
      ],
      "metadata": {
        "id": "_zP24H0c2Oa6"
      },
      "execution_count": 29,
      "outputs": []
    },
    {
      "cell_type": "code",
      "source": [
        "# cria o objeto regressor\n",
        "lr = LogisticRegression()"
      ],
      "metadata": {
        "id": "SrpFPkw220F3"
      },
      "execution_count": 30,
      "outputs": []
    },
    {
      "cell_type": "code",
      "source": [
        "# cria o modelo Logistic Regression para treino e ajusta os dados\n",
        "modelo_lr = lr.fit(treino)"
      ],
      "metadata": {
        "id": "zQQTTCUW23uw"
      },
      "execution_count": 31,
      "outputs": []
    },
    {
      "cell_type": "code",
      "source": [
        "previsoes_lr_treino = modelo_lr.transform(treino)"
      ],
      "metadata": {
        "id": "noeGc5aX5vg-"
      },
      "execution_count": 103,
      "outputs": []
    },
    {
      "cell_type": "code",
      "source": [
        "# cria as previsoes com os dados de teste\n",
        "previsoes_lr_teste = modelo_lr.transform(teste)"
      ],
      "metadata": {
        "id": "aWruPpnQ3IBm"
      },
      "execution_count": 32,
      "outputs": []
    },
    {
      "cell_type": "code",
      "source": [
        "# visualização da previsão\n",
        "previsoes_lr_teste.show(truncate=0)"
      ],
      "metadata": {
        "colab": {
          "base_uri": "https://localhost:8080/"
        },
        "id": "nFbKZepu3UTd",
        "outputId": "0f8a230e-a9d1-410d-b3a2-e8eba3a54311"
      },
      "execution_count": 34,
      "outputs": [
        {
          "output_type": "stream",
          "name": "stdout",
          "text": [
            "+------------------------------------------------------------------------------------------------------+-----+------------------------------------------+-----------------------------------------+----------+\n",
            "|features                                                                                              |label|rawPrediction                             |probability                              |prediction|\n",
            "+------------------------------------------------------------------------------------------------------+-----+------------------------------------------+-----------------------------------------+----------+\n",
            "|(24,[0,1,2,3,4,5,6,7,9,10,11,14,18,22],[1.0,55.0,76.25,1.0,1.0,1.0,1.0,1.0,1.0,1.0,1.0,1.0,1.0,1.0])  |0    |[3.0217417975155163,-3.0217417975155163]  |[0.9535467400028285,0.04645325999717154] |0.0       |\n",
            "|(24,[0,1,2,3,4,5,6,7,13,15,17,22],[1.0,24.0,79.85,1.0,1.0,1.0,1.0,1.0,1.0,1.0,1.0,1.0])               |0    |[-0.09221929660763595,0.09221929660763595]|[0.47696150091605805,0.523038499083942]  |1.0       |\n",
            "|(24,[0,1,2,3,4,5,6,8,13,15,17,23],[1.0,34.0,79.6,1.0,1.0,1.0,1.0,1.0,1.0,1.0,1.0,1.0])                |1    |[0.1874412171136145,-0.1874412171136145]  |[0.5467235846315606,0.45327641536843943] |0.0       |\n",
            "|(24,[0,1,2,3,4,5,6,9,11,12,13,15,17,21],[1.0,66.0,99.5,1.0,1.0,1.0,1.0,1.0,1.0,1.0,1.0,1.0,1.0,1.0])  |1    |[0.917165012601038,-0.917165012601038]    |[0.714464105491635,0.28553589450836503]  |0.0       |\n",
            "|(24,[0,1,2,3,4,5,6,9,11,13,15,17,23],[1.0,32.0,91.35,1.0,1.0,1.0,1.0,1.0,1.0,1.0,1.0,1.0,1.0])        |0    |[-0.1495904711610051,0.1495904711610051]  |[0.4626719646780127,0.5373280353219874]  |1.0       |\n",
            "|(24,[0,1,2,3,4,5,6,9,13,15,17,21],[1.0,11.0,78.1,1.0,1.0,1.0,1.0,1.0,1.0,1.0,1.0,1.0])                |0    |[-0.16805946192865073,0.16805946192865073]|[0.4580837449400644,0.5419162550599357]  |1.0       |\n",
            "|(24,[0,1,2,3,4,5,6,11,12,13,15,17,22],[1.0,14.0,95.8,1.0,1.0,1.0,1.0,1.0,1.0,1.0,1.0,1.0,1.0])        |0    |[-1.4170949608173151,1.4170949608173151]  |[0.19511740608882694,0.804882593911173]  |1.0       |\n",
            "|(24,[0,1,2,3,4,5,6,11,15,17,20],[1.0,22.0,85.35,1.0,1.0,1.0,1.0,1.0,1.0,1.0,1.0])                     |0    |[0.14194260698794892,-0.14194260698794892]|[0.5354261920088133,0.46457380799118675] |0.0       |\n",
            "|(24,[0,1,2,3,4,5,8,10,11,12,13,14,17,22],[1.0,35.0,76.05,1.0,1.0,1.0,1.0,1.0,1.0,1.0,1.0,1.0,1.0,1.0])|0    |[0.6704664401159954,-0.6704664401159954]  |[0.661607595079055,0.338392404920945]    |0.0       |\n",
            "|(24,[0,1,2,3,4,5,8,11,13,15,18,20],[1.0,47.0,84.95,1.0,1.0,1.0,1.0,1.0,1.0,1.0,1.0,1.0])              |0    |[1.4684103624499945,-1.4684103624499945]  |[0.812815648707279,0.18718435129272104]  |0.0       |\n",
            "|(24,[0,1,2,3,4,5,9,10,11,12,13,15,17,22],[1.0,31.0,98.9,1.0,1.0,1.0,1.0,1.0,1.0,1.0,1.0,1.0,1.0,1.0]) |1    |[-0.21870836053336595,0.21870836053336595]|[0.4455398213839491,0.5544601786160509]  |1.0       |\n",
            "|(24,[0,1,2,3,4,5,13,15,17,22],[1.0,1.0,69.25,1.0,1.0,1.0,1.0,1.0,1.0,1.0])                            |1    |[-1.03425375700674,1.03425375700674]      |[0.2622602561466755,0.7377397438533245]  |1.0       |\n",
            "|(24,[0,1,2,3,4,5,16,19,21],[1.0,71.0,19.8,1.0,1.0,1.0,1.0,1.0,1.0])                                   |0    |[5.5001722775407575,-5.5001722775407575]  |[0.9959305605638056,0.004069439436194422]|0.0       |\n",
            "|(24,[0,1,2,3,4,8,9,13,14,17,23],[1.0,29.0,35.65,1.0,1.0,1.0,1.0,1.0,1.0,1.0,1.0])                     |0    |[0.785126183303689,-0.785126183303689]    |[0.6867838707993971,0.31321612920060293] |0.0       |\n",
            "|(24,[0,1,2,3,4,8,12,13,14,18,22],[1.0,28.0,39.1,1.0,1.0,1.0,1.0,1.0,1.0,1.0,1.0])                     |0    |[0.8464742337326339,-0.8464742337326339]  |[0.6998270099164707,0.30017299008352927] |0.0       |\n",
            "|(24,[0,1,2,3,4,8,14,18,20],[1.0,48.0,29.9,1.0,1.0,1.0,1.0,1.0,1.0])                                   |0    |[2.7189142813287814,-2.7189142813287814]  |[0.9381335496854994,0.061866450314500554]|0.0       |\n",
            "|(24,[0,1,2,3,5,6,7,8,9,10,12,14,19,20],[1.0,72.0,78.45,1.0,1.0,1.0,1.0,1.0,1.0,1.0,1.0,1.0,1.0,1.0])  |0    |[4.4763564049772055,-4.4763564049772055]  |[0.9887531476591956,0.011246852340804359]|0.0       |\n",
            "|(24,[0,1,2,3,5,6,7,8,9,10,13,15,17,21],[1.0,61.0,94.2,1.0,1.0,1.0,1.0,1.0,1.0,1.0,1.0,1.0,1.0,1.0])   |0    |[1.6165033640131674,-1.6165033640131674]  |[0.8343123362806432,0.16568766371935684] |0.0       |\n",
            "|(24,[0,1,2,3,5,6,7,8,9,10,13,15,19,20],[1.0,72.0,93.05,1.0,1.0,1.0,1.0,1.0,1.0,1.0,1.0,1.0,1.0,1.0])  |0    |[3.4453923144855203,-3.4453923144855203]  |[0.9690934321240399,0.030906567875960134]|0.0       |\n",
            "|(24,[0,1,2,3,5,6,7,8,9,10,13,15,19,21],[1.0,71.0,96.35,1.0,1.0,1.0,1.0,1.0,1.0,1.0,1.0,1.0,1.0,1.0])  |0    |[3.4284925173122867,-3.4284925173122867]  |[0.9685832278066496,0.03141677219335037] |0.0       |\n",
            "+------------------------------------------------------------------------------------------------------+-----+------------------------------------------+-----------------------------------------+----------+\n",
            "only showing top 20 rows\n",
            "\n"
          ]
        }
      ]
    },
    {
      "cell_type": "markdown",
      "source": [
        "Métricas"
      ],
      "metadata": {
        "id": "jgUeCUaekooN"
      }
    },
    {
      "cell_type": "code",
      "source": [
        "# resumo do modelo de treino\n",
        "resumo_lr_treino = modelo_lr.summary"
      ],
      "metadata": {
        "id": "SvrBW4My3W1K"
      },
      "execution_count": 37,
      "outputs": []
    },
    {
      "cell_type": "code",
      "source": [
        "print(\"Acurária: %f\" % resumo_lr_treino.accuracy)\n",
        "print(\"Precisão: %f\" % resumo_lr_treino.precisionByLabel[1])\n",
        "print(\"Recall: %f\" % resumo_lr_treino.recallByLabel[1])\n",
        "print(\"F1: %f\" % resumo_lr_treino.fMeasureByLabel()[1])"
      ],
      "metadata": {
        "colab": {
          "base_uri": "https://localhost:8080/"
        },
        "id": "kMsFppOrmCS_",
        "outputId": "74e95448-1f25-448a-a577-df9fa094ba63"
      },
      "execution_count": 40,
      "outputs": [
        {
          "output_type": "stream",
          "name": "stdout",
          "text": [
            "Acurária: 0.784901\n",
            "Precisão: 0.770686\n",
            "Recall: 0.812517\n",
            "F1: 0.791049\n"
          ]
        }
      ]
    },
    {
      "cell_type": "code",
      "source": [
        "# contagem de verdadeiros e negativos\n",
        "tp = previsoes_lr_teste.select('label','prediction').where((f.col('label')==1) & (f.col('prediction')==1)).count()\n",
        "tn = previsoes_lr_teste.select('label','prediction').where((f.col('label')==0) & (f.col('prediction')==0)).count()\n",
        "fp = previsoes_lr_teste.select('label','prediction').where((f.col('label')==0) & (f.col('prediction')==1)).count()\n",
        "fn = previsoes_lr_teste.select('label','prediction').where((f.col('label')==1) & (f.col('prediction')==0)).count()"
      ],
      "metadata": {
        "id": "Ml2jjBAhlqDf"
      },
      "execution_count": 45,
      "outputs": []
    },
    {
      "cell_type": "code",
      "source": [
        "print(tp,tn,fp,fn)"
      ],
      "metadata": {
        "colab": {
          "base_uri": "https://localhost:8080/"
        },
        "id": "iewHPj94ruNZ",
        "outputId": "82f0b802-17db-4fad-9b0a-db79a0df114f"
      },
      "execution_count": 46,
      "outputs": [
        {
          "output_type": "stream",
          "name": "stdout",
          "text": [
            "1256 1179 400 307\n"
          ]
        }
      ]
    },
    {
      "cell_type": "code",
      "source": [
        "from pyspark.sql import functions as f # importo a biblioteca functions\n",
        "\n",
        "# crio a função que vai receber os dados para serem avaliados\n",
        "def calcula_mostra_metricas(modelo_lr, df_transform_modelo, normalize=False, percentage=True):\n",
        "# os passos para montagem da matriz de confusão são os mesmos da aula\n",
        "  tp = df_transform_modelo.select('label', 'prediction').where((f.col('label') == 1) & (f.col('prediction') == 1)).count()\n",
        "  tn = df_transform_modelo.select('label', 'prediction').where((f.col('label') == 0) & (f.col('prediction') == 0)).count()\n",
        "  fp = df_transform_modelo.select('label', 'prediction').where((f.col('label') == 0) & (f.col('prediction') == 1)).count()\n",
        "  fn = df_transform_modelo.select('label', 'prediction').where((f.col('label') == 1) & (f.col('prediction') == 0)).count()\n",
        "\n",
        "  valorP = 1\n",
        "  valorN = 1\n",
        "\n",
        "  if normalize:\n",
        "    valorP = tp + fn\n",
        "    valorN = fp + tn\n",
        "\n",
        "  if percentage and normalize:\n",
        "    valorP = valorP / 100\n",
        "    valorN = valorN / 100\n",
        "\n",
        "  # ‘s’ será minha string de retorno\n",
        "  # ela vai coletar e montar minha matriz de confusão\n",
        "  # e também os valores de acurácia, precisão, recall e F1-score\n",
        "  s = ''\n",
        "\n",
        "  # construção da minha string da matriz de confusão  \n",
        "  s += ' '*20 + 'Previsto\\n'\n",
        "  s += ' '*15 +  'Churn' + ' '*5 + 'Não-Churn\\n'\n",
        "  s += ' '*4 + 'Churn' + ' '*6 +  str(int(tp/valorP)) + ' '*7 + str(int(fn/valorP)) + '\\n'\n",
        "  s += 'Real\\n'\n",
        "  s += ' '*4 + 'Não-Churn' + ' '*2 + str(int(fp/valorN)) +  ' '*7 + str(int(tn/valorN))  + '\\n'\n",
        "  s += '\\n'\n",
        "\n",
        "  # coleto o resumo das métricas com summary\n",
        "  resumo_lr_treino = modelo_lr.summary\n",
        "\n",
        "  # adiciono os valores de cada métrica a minha string de retorno\n",
        "  s += f'Acurácia: {resumo_lr_treino.accuracy}\\n'\n",
        "  s += f'Precisão: {resumo_lr_treino.precisionByLabel[1]}\\n'\n",
        "  s += f'Recall: {resumo_lr_treino.recallByLabel[1]}\\n'\n",
        "  s += f'F1: {resumo_lr_treino.fMeasureByLabel()[1]}\\n'\n",
        "\n",
        "  return s"
      ],
      "metadata": {
        "id": "HQHl_DNbNGH8"
      },
      "execution_count": 49,
      "outputs": []
    },
    {
      "cell_type": "code",
      "source": [
        "print(calcula_mostra_metricas(modelo_lr,previsoes_lr_teste,normalize=False))"
      ],
      "metadata": {
        "colab": {
          "base_uri": "https://localhost:8080/"
        },
        "id": "MgtV1Q6-NKjv",
        "outputId": "e2c93401-1915-40fc-c66b-6673683e516c"
      },
      "execution_count": 50,
      "outputs": [
        {
          "output_type": "stream",
          "name": "stdout",
          "text": [
            "                    Previsto\n",
            "               Churn     Não-Churn\n",
            "    Churn      1256       307\n",
            "Real\n",
            "    Não-Churn  400       1179\n",
            "\n",
            "Acurácia: 0.7849014709963918\n",
            "Precisão: 0.7706855791962175\n",
            "Recall: 0.8125173082248685\n",
            "F1: 0.7910488002156916\n",
            "\n"
          ]
        }
      ]
    },
    {
      "cell_type": "markdown",
      "source": [
        "# Avaliando o Novo Modelo"
      ],
      "metadata": {
        "id": "Y_jamKAEOLMZ"
      }
    },
    {
      "cell_type": "code",
      "source": [
        "from pyspark.ml.classification import DecisionTreeClassifier"
      ],
      "metadata": {
        "id": "9i6mXo15ONu2"
      },
      "execution_count": 51,
      "outputs": []
    },
    {
      "cell_type": "code",
      "source": [
        "# criando o objeto regressor\n",
        "dtc = DecisionTreeClassifier()"
      ],
      "metadata": {
        "id": "ekZZjIQmc9O5"
      },
      "execution_count": 52,
      "outputs": []
    },
    {
      "cell_type": "code",
      "source": [
        "# criando o modelo\n",
        "modelo_dtc = dtc.fit(treino)"
      ],
      "metadata": {
        "id": "gJmePis_dA-2"
      },
      "execution_count": 53,
      "outputs": []
    },
    {
      "cell_type": "code",
      "source": [
        "# criando as previsoes para o modelo de teste\n",
        "previsoes_dtc_treino = modelo_dtc.transform(treino)"
      ],
      "metadata": {
        "id": "PzluBGVSdmgI"
      },
      "execution_count": 60,
      "outputs": []
    },
    {
      "cell_type": "code",
      "source": [
        "# visualizando os dados\n",
        "previsoes_dtc_treino.show(truncate=False)"
      ],
      "metadata": {
        "colab": {
          "base_uri": "https://localhost:8080/"
        },
        "id": "CI6-nGZed7Rv",
        "outputId": "93f505f0-5159-42a5-b145-f3647b66d531"
      },
      "execution_count": 61,
      "outputs": [
        {
          "output_type": "stream",
          "name": "stdout",
          "text": [
            "+------------------------------------------------------------------------------------------------------+-----+--------------+---------------------------------------+----------+\n",
            "|features                                                                                              |label|rawPrediction |probability                            |prediction|\n",
            "+------------------------------------------------------------------------------------------------------+-----+--------------+---------------------------------------+----------+\n",
            "|(24,[0,1,2,3,4,5,6,7,8,10,13,15,18,20],[1.0,58.0,89.85,1.0,1.0,1.0,1.0,1.0,1.0,1.0,1.0,1.0,1.0,1.0])  |0    |[2056.0,334.0]|[0.8602510460251046,0.1397489539748954]|0.0       |\n",
            "|(24,[0,1,2,3,4,5,6,7,8,11,14,18,22],[1.0,71.0,69.2,1.0,1.0,1.0,1.0,1.0,1.0,1.0,1.0,1.0,1.0])          |0    |[2056.0,334.0]|[0.8602510460251046,0.1397489539748954]|0.0       |\n",
            "|(24,[0,1,2,3,4,5,6,7,8,12,13,15,17,22],[1.0,60.0,93.25,1.0,1.0,1.0,1.0,1.0,1.0,1.0,1.0,1.0,1.0,1.0])  |0    |[22.0,3.0]    |[0.88,0.12]                            |0.0       |\n",
            "|(24,[0,1,2,3,4,5,6,7,8,13,15,17,22],[1.0,65.0,85.75,1.0,1.0,1.0,1.0,1.0,1.0,1.0,1.0,1.0,1.0])         |0    |[22.0,3.0]    |[0.88,0.12]                            |0.0       |\n",
            "|(24,[0,1,2,3,4,5,6,7,13,15,17,22],[1.0,60.0,80.95,1.0,1.0,1.0,1.0,1.0,1.0,1.0,1.0,1.0])               |0    |[22.0,3.0]    |[0.88,0.12]                            |0.0       |\n",
            "|(24,[0,1,2,3,4,5,6,8,9,11,12,15,17,22],[1.0,26.0,105.75,1.0,1.0,1.0,1.0,1.0,1.0,1.0,1.0,1.0,1.0,1.0]) |1    |[331.0,1951.0]|[0.1450482033304119,0.8549517966695881]|1.0       |\n",
            "|(24,[0,1,2,3,4,5,6,8,9,12,13,15,17,21],[1.0,62.0,96.1,1.0,1.0,1.0,1.0,1.0,1.0,1.0,1.0,1.0,1.0,1.0])   |0    |[239.0,205.0] |[0.5382882882882883,0.4617117117117117]|0.0       |\n",
            "|(24,[0,1,2,3,4,5,6,8,9,13,15,17,22],[1.0,51.0,84.2,1.0,1.0,1.0,1.0,1.0,1.0,1.0,1.0,1.0,1.0])          |1    |[331.0,1951.0]|[0.1450482033304119,0.8549517966695881]|1.0       |\n",
            "|(24,[0,1,2,3,4,5,6,8,9,13,15,17,22],[1.0,68.0,84.65,1.0,1.0,1.0,1.0,1.0,1.0,1.0,1.0,1.0,1.0])         |0    |[331.0,1951.0]|[0.1450482033304119,0.8549517966695881]|1.0       |\n",
            "|(24,[0,1,2,3,4,5,6,8,11,12,13,15,17,22],[1.0,32.0,100.4,1.0,1.0,1.0,1.0,1.0,1.0,1.0,1.0,1.0,1.0,1.0]) |0    |[331.0,1951.0]|[0.1450482033304119,0.8549517966695881]|1.0       |\n",
            "|(24,[0,1,2,3,4,5,6,8,11,12,15,17,22],[1.0,38.0,101.15,1.0,1.0,1.0,1.0,1.0,1.0,1.0,1.0,1.0,1.0])       |0    |[331.0,1951.0]|[0.1450482033304119,0.8549517966695881]|1.0       |\n",
            "|(24,[0,1,2,3,4,5,6,8,11,12,15,18,22],[1.0,61.0,99.0,1.0,1.0,1.0,1.0,1.0,1.0,1.0,1.0,1.0,1.0])         |0    |[2056.0,334.0]|[0.8602510460251046,0.1397489539748954]|0.0       |\n",
            "|(24,[0,1,2,3,4,5,6,9,11,12,13,15,17,22],[1.0,29.0,103.95,1.0,1.0,1.0,1.0,1.0,1.0,1.0,1.0,1.0,1.0,1.0])|0    |[331.0,1951.0]|[0.1450482033304119,0.8549517966695881]|1.0       |\n",
            "|(24,[0,1,2,3,4,5,6,9,11,13,14,18,22],[1.0,61.0,65.2,1.0,1.0,1.0,1.0,1.0,1.0,1.0,1.0,1.0,1.0])         |0    |[2056.0,334.0]|[0.8602510460251046,0.1397489539748954]|0.0       |\n",
            "|(24,[0,1,2,3,4,5,6,9,12,13,15,17,21],[1.0,59.0,88.75,1.0,1.0,1.0,1.0,1.0,1.0,1.0,1.0,1.0,1.0])        |0    |[239.0,205.0] |[0.5382882882882883,0.4617117117117117]|0.0       |\n",
            "|(24,[0,1,2,3,4,5,6,11,12,13,15,17,21],[1.0,40.0,94.55,1.0,1.0,1.0,1.0,1.0,1.0,1.0,1.0,1.0,1.0])       |1    |[239.0,205.0] |[0.5382882882882883,0.4617117117117117]|0.0       |\n",
            "|(24,[0,1,2,3,4,5,6,13,14,18,22],[1.0,28.0,51.0,1.0,1.0,1.0,1.0,1.0,1.0,1.0,1.0])                      |0    |[2056.0,334.0]|[0.8602510460251046,0.1397489539748954]|0.0       |\n",
            "|(24,[0,1,2,3,4,5,6,13,15,17,21],[1.0,11.0,75.2,1.0,1.0,1.0,1.0,1.0,1.0,1.0,1.0])                      |0    |[51.0,141.0]  |[0.265625,0.734375]                    |1.0       |\n",
            "|(24,[0,1,2,3,4,5,6,13,16,19,20],[1.0,64.0,24.4,1.0,1.0,1.0,1.0,1.0,1.0,1.0,1.0])                      |0    |[2056.0,334.0]|[0.8602510460251046,0.1397489539748954]|0.0       |\n",
            "|(24,[0,1,2,3,4,5,7,8,9,13,15,18,20],[1.0,71.0,86.7,1.0,1.0,1.0,1.0,1.0,1.0,1.0,1.0,1.0,1.0])          |0    |[2056.0,334.0]|[0.8602510460251046,0.1397489539748954]|0.0       |\n",
            "+------------------------------------------------------------------------------------------------------+-----+--------------+---------------------------------------+----------+\n",
            "only showing top 20 rows\n",
            "\n"
          ]
        }
      ]
    },
    {
      "cell_type": "markdown",
      "source": [
        "Métricas"
      ],
      "metadata": {
        "id": "l0oldteLeswt"
      }
    },
    {
      "cell_type": "code",
      "source": [
        "from pyspark.ml.evaluation import MulticlassClassificationEvaluator"
      ],
      "metadata": {
        "id": "CQ0zAPt4d_ou"
      },
      "execution_count": 62,
      "outputs": []
    },
    {
      "cell_type": "code",
      "source": [
        "# instanciando o avaliador\n",
        "evaluator = MulticlassClassificationEvaluator()"
      ],
      "metadata": {
        "id": "9K1UX1qufDOL"
      },
      "execution_count": 63,
      "outputs": []
    },
    {
      "cell_type": "code",
      "source": [
        "# avaliando a previsao de treino\n",
        "print(\"Acurácia: %f\" % evaluator.evaluate(previsoes_dtc_treino,{evaluator.metricName: 'accuracy'}))\n",
        "print(\"Precisão: %f\" % evaluator.evaluate(previsoes_dtc_treino,{evaluator.metricName: 'precisionByLabel'}))\n",
        "print(\"Recall: %f\" % evaluator.evaluate(previsoes_dtc_treino,{evaluator.metricName: 'recallByLabel'}))\n",
        "print(\"F1-Score: %f\" % evaluator.evaluate(previsoes_dtc_treino,{evaluator.metricName: 'fMeasureByLabel'}))"
      ],
      "metadata": {
        "colab": {
          "base_uri": "https://localhost:8080/"
        },
        "id": "RHyimOTffT9w",
        "outputId": "2367fb62-7380-4aa4-9469-e155d0f67fc0"
      },
      "execution_count": 66,
      "outputs": [
        {
          "output_type": "stream",
          "name": "stdout",
          "text": [
            "Acurácia: 0.791701\n",
            "Precisão: 0.779349\n",
            "Recall: 0.812517\n",
            "F1-Score: 0.795588\n"
          ]
        }
      ]
    },
    {
      "cell_type": "code",
      "source": [
        "# previsoes com dados de teste\n",
        "previsoes_dtc_teste = modelo_dtc.transform(teste)"
      ],
      "metadata": {
        "id": "V0-Wa8cmgaIC"
      },
      "execution_count": 67,
      "outputs": []
    },
    {
      "cell_type": "code",
      "source": [
        "previsoes_dtc_teste.show(truncate=False)"
      ],
      "metadata": {
        "colab": {
          "base_uri": "https://localhost:8080/"
        },
        "id": "8i2aagSOqM38",
        "outputId": "8eabc783-b143-48be-b851-b9885e90d4e0"
      },
      "execution_count": 68,
      "outputs": [
        {
          "output_type": "stream",
          "name": "stdout",
          "text": [
            "+------------------------------------------------------------------------------------------------------+-----+--------------+----------------------------------------+----------+\n",
            "|features                                                                                              |label|rawPrediction |probability                             |prediction|\n",
            "+------------------------------------------------------------------------------------------------------+-----+--------------+----------------------------------------+----------+\n",
            "|(24,[0,1,2,3,4,5,6,7,9,10,11,14,18,22],[1.0,55.0,76.25,1.0,1.0,1.0,1.0,1.0,1.0,1.0,1.0,1.0,1.0,1.0])  |0    |[2056.0,334.0]|[0.8602510460251046,0.1397489539748954] |0.0       |\n",
            "|(24,[0,1,2,3,4,5,6,7,13,15,17,22],[1.0,24.0,79.85,1.0,1.0,1.0,1.0,1.0,1.0,1.0,1.0,1.0])               |0    |[62.0,128.0]  |[0.3263157894736842,0.6736842105263158] |1.0       |\n",
            "|(24,[0,1,2,3,4,5,6,8,13,15,17,23],[1.0,34.0,79.6,1.0,1.0,1.0,1.0,1.0,1.0,1.0,1.0,1.0])                |1    |[239.0,205.0] |[0.5382882882882883,0.4617117117117117] |0.0       |\n",
            "|(24,[0,1,2,3,4,5,6,9,11,12,13,15,17,21],[1.0,66.0,99.5,1.0,1.0,1.0,1.0,1.0,1.0,1.0,1.0,1.0,1.0,1.0])  |1    |[239.0,205.0] |[0.5382882882882883,0.4617117117117117] |0.0       |\n",
            "|(24,[0,1,2,3,4,5,6,9,11,13,15,17,23],[1.0,32.0,91.35,1.0,1.0,1.0,1.0,1.0,1.0,1.0,1.0,1.0,1.0])        |0    |[239.0,205.0] |[0.5382882882882883,0.4617117117117117] |0.0       |\n",
            "|(24,[0,1,2,3,4,5,6,9,13,15,17,21],[1.0,11.0,78.1,1.0,1.0,1.0,1.0,1.0,1.0,1.0,1.0,1.0])                |0    |[51.0,141.0]  |[0.265625,0.734375]                     |1.0       |\n",
            "|(24,[0,1,2,3,4,5,6,11,12,13,15,17,22],[1.0,14.0,95.8,1.0,1.0,1.0,1.0,1.0,1.0,1.0,1.0,1.0,1.0])        |0    |[331.0,1951.0]|[0.1450482033304119,0.8549517966695881] |1.0       |\n",
            "|(24,[0,1,2,3,4,5,6,11,15,17,20],[1.0,22.0,85.35,1.0,1.0,1.0,1.0,1.0,1.0,1.0,1.0])                     |0    |[239.0,205.0] |[0.5382882882882883,0.4617117117117117] |0.0       |\n",
            "|(24,[0,1,2,3,4,5,8,10,11,12,13,14,17,22],[1.0,35.0,76.05,1.0,1.0,1.0,1.0,1.0,1.0,1.0,1.0,1.0,1.0,1.0])|0    |[63.0,118.0]  |[0.34806629834254144,0.6519337016574586]|1.0       |\n",
            "|(24,[0,1,2,3,4,5,8,11,13,15,18,20],[1.0,47.0,84.95,1.0,1.0,1.0,1.0,1.0,1.0,1.0,1.0,1.0])              |0    |[2056.0,334.0]|[0.8602510460251046,0.1397489539748954] |0.0       |\n",
            "|(24,[0,1,2,3,4,5,9,10,11,12,13,15,17,22],[1.0,31.0,98.9,1.0,1.0,1.0,1.0,1.0,1.0,1.0,1.0,1.0,1.0,1.0]) |1    |[63.0,118.0]  |[0.34806629834254144,0.6519337016574586]|1.0       |\n",
            "|(24,[0,1,2,3,4,5,13,15,17,22],[1.0,1.0,69.25,1.0,1.0,1.0,1.0,1.0,1.0,1.0])                            |1    |[331.0,1951.0]|[0.1450482033304119,0.8549517966695881] |1.0       |\n",
            "|(24,[0,1,2,3,4,5,16,19,21],[1.0,71.0,19.8,1.0,1.0,1.0,1.0,1.0,1.0])                                   |0    |[2056.0,334.0]|[0.8602510460251046,0.1397489539748954] |0.0       |\n",
            "|(24,[0,1,2,3,4,8,9,13,14,17,23],[1.0,29.0,35.65,1.0,1.0,1.0,1.0,1.0,1.0,1.0,1.0])                     |0    |[445.0,181.0] |[0.7108626198083067,0.28913738019169327]|0.0       |\n",
            "|(24,[0,1,2,3,4,8,12,13,14,18,22],[1.0,28.0,39.1,1.0,1.0,1.0,1.0,1.0,1.0,1.0,1.0])                     |0    |[2056.0,334.0]|[0.8602510460251046,0.1397489539748954] |0.0       |\n",
            "|(24,[0,1,2,3,4,8,14,18,20],[1.0,48.0,29.9,1.0,1.0,1.0,1.0,1.0,1.0])                                   |0    |[2056.0,334.0]|[0.8602510460251046,0.1397489539748954] |0.0       |\n",
            "|(24,[0,1,2,3,5,6,7,8,9,10,12,14,19,20],[1.0,72.0,78.45,1.0,1.0,1.0,1.0,1.0,1.0,1.0,1.0,1.0,1.0,1.0])  |0    |[2056.0,334.0]|[0.8602510460251046,0.1397489539748954] |0.0       |\n",
            "|(24,[0,1,2,3,5,6,7,8,9,10,13,15,17,21],[1.0,61.0,94.2,1.0,1.0,1.0,1.0,1.0,1.0,1.0,1.0,1.0,1.0,1.0])   |0    |[239.0,205.0] |[0.5382882882882883,0.4617117117117117] |0.0       |\n",
            "|(24,[0,1,2,3,5,6,7,8,9,10,13,15,19,20],[1.0,72.0,93.05,1.0,1.0,1.0,1.0,1.0,1.0,1.0,1.0,1.0,1.0,1.0])  |0    |[2056.0,334.0]|[0.8602510460251046,0.1397489539748954] |0.0       |\n",
            "|(24,[0,1,2,3,5,6,7,8,9,10,13,15,19,21],[1.0,71.0,96.35,1.0,1.0,1.0,1.0,1.0,1.0,1.0,1.0,1.0,1.0,1.0])  |0    |[2056.0,334.0]|[0.8602510460251046,0.1397489539748954] |0.0       |\n",
            "+------------------------------------------------------------------------------------------------------+-----+--------------+----------------------------------------+----------+\n",
            "only showing top 20 rows\n",
            "\n"
          ]
        }
      ]
    },
    {
      "cell_type": "code",
      "source": [
        "print('Decicion Tree Classifier')\n",
        "print('='*40)\n",
        "print('Dados de Treino')\n",
        "print('='*40)\n",
        "print('Matriz de Confusão')\n",
        "print('-'*40)\n",
        "calcula_mostra_matriz_confusao(previsoes_dtc_treino,normalize=False)\n",
        "print(\"-\"*40)\n",
        "print(\"Métricas\")\n",
        "print('-'*40)\n",
        "print(\"Acurácia: %f\" % evaluator.evaluate(previsoes_dtc_treino,{evaluator.metricName: 'accuracy'}))\n",
        "print(\"Precisão: %f\" % evaluator.evaluate(previsoes_dtc_treino,{evaluator.metricName: 'precisionByLabel'}))\n",
        "print(\"Recall: %f\" % evaluator.evaluate(previsoes_dtc_treino,{evaluator.metricName: 'recallByLabel'}))\n",
        "print(\"F1-Score: %f\" % evaluator.evaluate(previsoes_dtc_treino,{evaluator.metricName: 'fMeasureByLabel'}))\n",
        "print(\"\")\n",
        "print('='*40)\n",
        "print('Dados de Teste')\n",
        "print('='*40)\n",
        "print('Matriz de Confusão')\n",
        "print('-'*40)\n",
        "calcula_mostra_matriz_confusao(previsoes_dtc_teste,normalize=False)\n",
        "print(\"-\"*40)\n",
        "print(\"Métricas\")\n",
        "print('-'*40)\n",
        "print(\"Acurácia: %f\" % evaluator.evaluate(previsoes_dtc_teste,{evaluator.metricName: 'accuracy'}))\n",
        "print(\"Precisão: %f\" % evaluator.evaluate(previsoes_dtc_teste,{evaluator.metricName: 'precisionByLabel'}))\n",
        "print(\"Recall: %f\" % evaluator.evaluate(previsoes_dtc_teste,{evaluator.metricName: 'recallByLabel'}))\n",
        "print(\"F1-Score: %f\" % evaluator.evaluate(previsoes_dtc_teste,{evaluator.metricName: 'fMeasureByLabel'}))"
      ],
      "metadata": {
        "colab": {
          "base_uri": "https://localhost:8080/"
        },
        "id": "h34zpNHDqQ0z",
        "outputId": "99206bf1-e60d-4457-ef36-aea7480f2525"
      },
      "execution_count": 74,
      "outputs": [
        {
          "output_type": "stream",
          "name": "stdout",
          "text": [
            "Decicion Tree Classifier\n",
            "========================================\n",
            "Dados de Treino\n",
            "========================================\n",
            "Matriz de Confusão\n",
            "----------------------------------------\n",
            "                     Previsto\n",
            "                Churn       Não-Churn\n",
            "     Churn        2784         827\n",
            "Real\n",
            "     Não-Churn    674         2921\n",
            "----------------------------------------\n",
            "Métricas\n",
            "----------------------------------------\n",
            "Acurácia: 0.791701\n",
            "Precisão: 0.779349\n",
            "Recall: 0.812517\n",
            "F1-Score: 0.795588\n",
            "\n",
            "========================================\n",
            "Dados de Teste\n",
            "========================================\n",
            "Matriz de Confusão\n",
            "----------------------------------------\n",
            "                     Previsto\n",
            "                Churn       Não-Churn\n",
            "     Churn        1181         382\n",
            "Real\n",
            "     Não-Churn    336         1243\n",
            "----------------------------------------\n",
            "Métricas\n",
            "----------------------------------------\n",
            "Acurácia: 0.771483\n",
            "Precisão: 0.764923\n",
            "Recall: 0.787207\n",
            "F1-Score: 0.775905\n"
          ]
        }
      ]
    },
    {
      "cell_type": "markdown",
      "source": [
        "# Random Forest"
      ],
      "metadata": {
        "id": "MBC2wRg3vpsX"
      }
    },
    {
      "cell_type": "code",
      "source": [
        "from pyspark.ml.classification import RandomForestClassifier"
      ],
      "metadata": {
        "id": "s1E2v-5XvvfD"
      },
      "execution_count": 80,
      "outputs": []
    },
    {
      "cell_type": "code",
      "source": [
        "# instanciando o Random Forest\n",
        "rfc = RandomForestClassifier(seed=SEED)"
      ],
      "metadata": {
        "id": "ZcXpXrps0IPL"
      },
      "execution_count": 82,
      "outputs": []
    },
    {
      "cell_type": "code",
      "source": [
        "# criando o modelo\n",
        "modelo_rfc = rfc.fit(treino)"
      ],
      "metadata": {
        "id": "JH9XtWry0boa"
      },
      "execution_count": 83,
      "outputs": []
    },
    {
      "cell_type": "code",
      "source": [
        "# realizando previsoes\n",
        "previsoes_rfc_treino = modelo_rfc.transform(treino)"
      ],
      "metadata": {
        "id": "Bvfu1m6Y0zqT"
      },
      "execution_count": 84,
      "outputs": []
    },
    {
      "cell_type": "code",
      "source": [
        "previsoes_rfc_treino.show(truncate=False)"
      ],
      "metadata": {
        "colab": {
          "base_uri": "https://localhost:8080/"
        },
        "id": "4h4Y4fl51BCe",
        "outputId": "d7085fdb-951f-4aad-a1e2-7485fbb40924"
      },
      "execution_count": 86,
      "outputs": [
        {
          "output_type": "stream",
          "name": "stdout",
          "text": [
            "+------------------------------------------------------------------------------------------------------+-----+---------------------------------------+----------------------------------------+----------+\n",
            "|features                                                                                              |label|rawPrediction                          |probability                             |prediction|\n",
            "+------------------------------------------------------------------------------------------------------+-----+---------------------------------------+----------------------------------------+----------+\n",
            "|(24,[0,1,2,3,4,5,6,7,8,10,13,15,18,20],[1.0,58.0,89.85,1.0,1.0,1.0,1.0,1.0,1.0,1.0,1.0,1.0,1.0,1.0])  |0    |[15.005277346670482,4.99472265332952]  |[0.7502638673335241,0.24973613266647599]|0.0       |\n",
            "|(24,[0,1,2,3,4,5,6,7,8,11,14,18,22],[1.0,71.0,69.2,1.0,1.0,1.0,1.0,1.0,1.0,1.0,1.0,1.0,1.0])          |0    |[16.929504027324917,3.070495972675083] |[0.8464752013662459,0.15352479863375415]|0.0       |\n",
            "|(24,[0,1,2,3,4,5,6,7,8,12,13,15,17,22],[1.0,60.0,93.25,1.0,1.0,1.0,1.0,1.0,1.0,1.0,1.0,1.0,1.0,1.0])  |0    |[9.130529091068148,10.869470908931852] |[0.4565264545534074,0.5434735454465927] |1.0       |\n",
            "|(24,[0,1,2,3,4,5,6,7,8,13,15,17,22],[1.0,65.0,85.75,1.0,1.0,1.0,1.0,1.0,1.0,1.0,1.0,1.0,1.0])         |0    |[9.130529091068148,10.869470908931852] |[0.4565264545534074,0.5434735454465927] |1.0       |\n",
            "|(24,[0,1,2,3,4,5,6,7,13,15,17,22],[1.0,60.0,80.95,1.0,1.0,1.0,1.0,1.0,1.0,1.0,1.0,1.0])               |0    |[8.592889385287647,11.407110614712355] |[0.4296444692643823,0.5703555307356177] |1.0       |\n",
            "|(24,[0,1,2,3,4,5,6,8,9,11,12,15,17,22],[1.0,26.0,105.75,1.0,1.0,1.0,1.0,1.0,1.0,1.0,1.0,1.0,1.0,1.0]) |1    |[5.596471228856986,14.403528771143014] |[0.2798235614428493,0.7201764385571507] |1.0       |\n",
            "|(24,[0,1,2,3,4,5,6,8,9,12,13,15,17,21],[1.0,62.0,96.1,1.0,1.0,1.0,1.0,1.0,1.0,1.0,1.0,1.0,1.0,1.0])   |0    |[9.332763282677876,10.667236717322126] |[0.4666381641338938,0.5333618358661063] |1.0       |\n",
            "|(24,[0,1,2,3,4,5,6,8,9,13,15,17,22],[1.0,51.0,84.2,1.0,1.0,1.0,1.0,1.0,1.0,1.0,1.0,1.0,1.0])          |1    |[5.216160131571186,14.783839868428814] |[0.2608080065785593,0.7391919934214407] |1.0       |\n",
            "|(24,[0,1,2,3,4,5,6,8,9,13,15,17,22],[1.0,68.0,84.65,1.0,1.0,1.0,1.0,1.0,1.0,1.0,1.0,1.0,1.0])         |0    |[5.456402555813611,14.543597444186389] |[0.27282012779068054,0.7271798722093195]|1.0       |\n",
            "|(24,[0,1,2,3,4,5,6,8,11,12,13,15,17,22],[1.0,32.0,100.4,1.0,1.0,1.0,1.0,1.0,1.0,1.0,1.0,1.0,1.0,1.0]) |0    |[4.604426498947246,15.395573501052757] |[0.23022132494736228,0.7697786750526378]|1.0       |\n",
            "|(24,[0,1,2,3,4,5,6,8,11,12,15,17,22],[1.0,38.0,101.15,1.0,1.0,1.0,1.0,1.0,1.0,1.0,1.0,1.0,1.0])       |0    |[5.67535692640751,14.32464307359249]   |[0.2837678463203755,0.7162321536796246] |1.0       |\n",
            "|(24,[0,1,2,3,4,5,6,8,11,12,15,18,22],[1.0,61.0,99.0,1.0,1.0,1.0,1.0,1.0,1.0,1.0,1.0,1.0,1.0])         |0    |[12.020055464448227,7.979944535551773] |[0.6010027732224114,0.39899722677758864]|0.0       |\n",
            "|(24,[0,1,2,3,4,5,6,9,11,12,13,15,17,22],[1.0,29.0,103.95,1.0,1.0,1.0,1.0,1.0,1.0,1.0,1.0,1.0,1.0,1.0])|0    |[4.789643590603102,15.210356409396898] |[0.2394821795301551,0.7605178204698448] |1.0       |\n",
            "|(24,[0,1,2,3,4,5,6,9,11,13,14,18,22],[1.0,61.0,65.2,1.0,1.0,1.0,1.0,1.0,1.0,1.0,1.0,1.0,1.0])         |0    |[16.003486440336243,3.9965135596637533]|[0.8001743220168123,0.1998256779831877] |0.0       |\n",
            "|(24,[0,1,2,3,4,5,6,9,12,13,15,17,21],[1.0,59.0,88.75,1.0,1.0,1.0,1.0,1.0,1.0,1.0,1.0,1.0,1.0])        |0    |[9.332763282677876,10.667236717322126] |[0.4666381641338938,0.5333618358661063] |1.0       |\n",
            "|(24,[0,1,2,3,4,5,6,11,12,13,15,17,21],[1.0,40.0,94.55,1.0,1.0,1.0,1.0,1.0,1.0,1.0,1.0,1.0,1.0])       |1    |[7.729230923508908,12.270769076491092] |[0.38646154617544537,0.6135384538245546]|1.0       |\n",
            "|(24,[0,1,2,3,4,5,6,13,14,18,22],[1.0,28.0,51.0,1.0,1.0,1.0,1.0,1.0,1.0,1.0,1.0])                      |0    |[15.960933248846883,4.039066751153116] |[0.7980466624423441,0.2019533375576558] |0.0       |\n",
            "|(24,[0,1,2,3,4,5,6,13,15,17,21],[1.0,11.0,75.2,1.0,1.0,1.0,1.0,1.0,1.0,1.0,1.0])                      |0    |[7.081607764376409,12.918392235623589] |[0.3540803882188205,0.6459196117811794] |1.0       |\n",
            "|(24,[0,1,2,3,4,5,6,13,16,19,20],[1.0,64.0,24.4,1.0,1.0,1.0,1.0,1.0,1.0,1.0,1.0])                      |0    |[18.249725637486645,1.7502743625133546]|[0.9124862818743322,0.08751371812566773]|0.0       |\n",
            "|(24,[0,1,2,3,4,5,7,8,9,13,15,18,20],[1.0,71.0,86.7,1.0,1.0,1.0,1.0,1.0,1.0,1.0,1.0,1.0,1.0])          |0    |[14.475906926754647,5.524093073245354] |[0.7237953463377323,0.2762046536622677] |0.0       |\n",
            "+------------------------------------------------------------------------------------------------------+-----+---------------------------------------+----------------------------------------+----------+\n",
            "only showing top 20 rows\n",
            "\n"
          ]
        }
      ]
    },
    {
      "cell_type": "markdown",
      "source": [
        "Métricas"
      ],
      "metadata": {
        "id": "TF5YznaM1yvQ"
      }
    },
    {
      "cell_type": "code",
      "source": [
        "# previsoes com dados de teste\n",
        "previsoes_rfc_teste = modelo_rfc.transform(teste)"
      ],
      "metadata": {
        "id": "kwNSr6gh1DyA"
      },
      "execution_count": 89,
      "outputs": []
    },
    {
      "cell_type": "code",
      "source": [
        "previsoes_rfc_teste.show(truncate=False)"
      ],
      "metadata": {
        "colab": {
          "base_uri": "https://localhost:8080/"
        },
        "id": "ByOZP_V5166s",
        "outputId": "b64e1909-168f-4a7d-f8e6-ba1378cfadbd"
      },
      "execution_count": 90,
      "outputs": [
        {
          "output_type": "stream",
          "name": "stdout",
          "text": [
            "+------------------------------------------------------------------------------------------------------+-----+---------------------------------------+----------------------------------------+----------+\n",
            "|features                                                                                              |label|rawPrediction                          |probability                             |prediction|\n",
            "+------------------------------------------------------------------------------------------------------+-----+---------------------------------------+----------------------------------------+----------+\n",
            "|(24,[0,1,2,3,4,5,6,7,9,10,11,14,18,22],[1.0,55.0,76.25,1.0,1.0,1.0,1.0,1.0,1.0,1.0,1.0,1.0,1.0,1.0])  |0    |[16.743387167561558,3.2566128324384436]|[0.8371693583780779,0.16283064162192218]|0.0       |\n",
            "|(24,[0,1,2,3,4,5,6,7,13,15,17,22],[1.0,24.0,79.85,1.0,1.0,1.0,1.0,1.0,1.0,1.0,1.0,1.0])               |0    |[7.273132145996488,12.726867854003515] |[0.36365660729982435,0.6363433927001757]|1.0       |\n",
            "|(24,[0,1,2,3,4,5,6,8,13,15,17,23],[1.0,34.0,79.6,1.0,1.0,1.0,1.0,1.0,1.0,1.0,1.0,1.0])                |1    |[7.468850721615858,12.531149278384143] |[0.3734425360807929,0.6265574639192072] |1.0       |\n",
            "|(24,[0,1,2,3,4,5,6,9,11,12,13,15,17,21],[1.0,66.0,99.5,1.0,1.0,1.0,1.0,1.0,1.0,1.0,1.0,1.0,1.0,1.0])  |1    |[9.332763282677876,10.667236717322126] |[0.4666381641338938,0.5333618358661063] |1.0       |\n",
            "|(24,[0,1,2,3,4,5,6,9,11,13,15,17,23],[1.0,32.0,91.35,1.0,1.0,1.0,1.0,1.0,1.0,1.0,1.0,1.0,1.0])        |0    |[7.798290047392644,12.201709952607358] |[0.3899145023696322,0.6100854976303679] |1.0       |\n",
            "|(24,[0,1,2,3,4,5,6,9,13,15,17,21],[1.0,11.0,78.1,1.0,1.0,1.0,1.0,1.0,1.0,1.0,1.0,1.0])                |0    |[7.132634078345495,12.867365921654507] |[0.3566317039172747,0.6433682960827254] |1.0       |\n",
            "|(24,[0,1,2,3,4,5,6,11,12,13,15,17,22],[1.0,14.0,95.8,1.0,1.0,1.0,1.0,1.0,1.0,1.0,1.0,1.0,1.0])        |0    |[4.458726355111599,15.5412736448884]   |[0.22293631775557995,0.77706368224442]  |1.0       |\n",
            "|(24,[0,1,2,3,4,5,6,11,15,17,20],[1.0,22.0,85.35,1.0,1.0,1.0,1.0,1.0,1.0,1.0,1.0])                     |0    |[7.846915191251303,12.153084808748694] |[0.39234575956256523,0.6076542404374349]|1.0       |\n",
            "|(24,[0,1,2,3,4,5,8,10,11,12,13,14,17,22],[1.0,35.0,76.05,1.0,1.0,1.0,1.0,1.0,1.0,1.0,1.0,1.0,1.0,1.0])|0    |[9.947961507833663,10.052038492166336] |[0.4973980753916831,0.5026019246083168] |1.0       |\n",
            "|(24,[0,1,2,3,4,5,8,11,13,15,18,20],[1.0,47.0,84.95,1.0,1.0,1.0,1.0,1.0,1.0,1.0,1.0,1.0])              |0    |[13.941939235479321,6.058060764520681] |[0.6970969617739661,0.30290303822603404]|0.0       |\n",
            "|(24,[0,1,2,3,4,5,9,10,11,12,13,15,17,22],[1.0,31.0,98.9,1.0,1.0,1.0,1.0,1.0,1.0,1.0,1.0,1.0,1.0,1.0]) |1    |[5.913092323176217,14.086907676823785] |[0.29565461615881083,0.7043453838411893]|1.0       |\n",
            "|(24,[0,1,2,3,4,5,13,15,17,22],[1.0,1.0,69.25,1.0,1.0,1.0,1.0,1.0,1.0,1.0])                            |1    |[4.000568702395608,15.999431297604392] |[0.20002843511978038,0.7999715648802196]|1.0       |\n",
            "|(24,[0,1,2,3,4,5,16,19,21],[1.0,71.0,19.8,1.0,1.0,1.0,1.0,1.0,1.0])                                   |0    |[18.312050947601854,1.6879490523981475]|[0.9156025473800927,0.08439745261990737]|0.0       |\n",
            "|(24,[0,1,2,3,4,8,9,13,14,17,23],[1.0,29.0,35.65,1.0,1.0,1.0,1.0,1.0,1.0,1.0,1.0])                     |0    |[11.924446116439308,8.075553883560692] |[0.5962223058219653,0.4037776941780346] |0.0       |\n",
            "|(24,[0,1,2,3,4,8,12,13,14,18,22],[1.0,28.0,39.1,1.0,1.0,1.0,1.0,1.0,1.0,1.0,1.0])                     |0    |[15.348528913013878,4.651471086986123] |[0.7674264456506938,0.23257355434930616]|0.0       |\n",
            "|(24,[0,1,2,3,4,8,14,18,20],[1.0,48.0,29.9,1.0,1.0,1.0,1.0,1.0,1.0])                                   |0    |[16.528444441735278,3.471555558264722] |[0.8264222220867639,0.1735777779132361] |0.0       |\n",
            "|(24,[0,1,2,3,5,6,7,8,9,10,12,14,19,20],[1.0,72.0,78.45,1.0,1.0,1.0,1.0,1.0,1.0,1.0,1.0,1.0,1.0,1.0])  |0    |[18.000575999767936,1.9994240002320645]|[0.9000287999883968,0.09997120001160323]|0.0       |\n",
            "|(24,[0,1,2,3,5,6,7,8,9,10,13,15,17,21],[1.0,61.0,94.2,1.0,1.0,1.0,1.0,1.0,1.0,1.0,1.0,1.0,1.0,1.0])   |0    |[12.757746210153243,7.242253789846753] |[0.6378873105076622,0.3621126894923377] |0.0       |\n",
            "|(24,[0,1,2,3,5,6,7,8,9,10,13,15,19,20],[1.0,72.0,93.05,1.0,1.0,1.0,1.0,1.0,1.0,1.0,1.0,1.0,1.0,1.0])  |0    |[17.380223408466815,2.6197765915331854]|[0.8690111704233408,0.13098882957665928]|0.0       |\n",
            "|(24,[0,1,2,3,5,6,7,8,9,10,13,15,19,21],[1.0,71.0,96.35,1.0,1.0,1.0,1.0,1.0,1.0,1.0,1.0,1.0,1.0,1.0])  |0    |[17.25909218586493,2.740907814135071]  |[0.8629546092932465,0.13704539070675353]|0.0       |\n",
            "+------------------------------------------------------------------------------------------------------+-----+---------------------------------------+----------------------------------------+----------+\n",
            "only showing top 20 rows\n",
            "\n"
          ]
        }
      ]
    },
    {
      "cell_type": "code",
      "source": [],
      "metadata": {
        "colab": {
          "base_uri": "https://localhost:8080/"
        },
        "id": "Y1nb5FBO1-GF",
        "outputId": "c21bfec2-cd9d-4b58-b337-f4710cd7aaa3"
      },
      "execution_count": 91,
      "outputs": [
        {
          "output_type": "stream",
          "name": "stdout",
          "text": [
            "Decicion Tree Classifier\n",
            "========================================\n",
            "Dados de Treino\n",
            "========================================\n",
            "Matriz de Confusão\n",
            "----------------------------------------\n",
            "                     Previsto\n",
            "                Churn       Não-Churn\n",
            "     Churn        2950         661\n",
            "Real\n",
            "     Não-Churn    884         2711\n",
            "----------------------------------------\n",
            "Métricas\n",
            "----------------------------------------\n",
            "Acurácia: 0.785595\n",
            "Precisão: 0.803974\n",
            "Recall: 0.754103\n",
            "F1-Score: 0.778240\n",
            "\n",
            "========================================\n",
            "Dados de Teste\n",
            "========================================\n",
            "Matriz de Confusão\n",
            "----------------------------------------\n",
            "                     Previsto\n",
            "                Churn       Não-Churn\n",
            "     Churn        1257         306\n",
            "Real\n",
            "     Não-Churn    416         1163\n",
            "----------------------------------------\n",
            "Métricas\n",
            "----------------------------------------\n",
            "Acurácia: 0.770210\n",
            "Precisão: 0.791695\n",
            "Recall: 0.736542\n",
            "F1-Score: 0.763123\n"
          ]
        }
      ]
    },
    {
      "cell_type": "code",
      "source": [
        "def report_metrics(name,dados_treino,dados_teste):\n",
        "  print(name)\n",
        "  print('='*40)\n",
        "  print('Dados de Treino')\n",
        "  print('='*40)\n",
        "  print('Matriz de Confusão')\n",
        "  print('-'*40)\n",
        "  calcula_mostra_matriz_confusao(dados_treino,normalize=False)\n",
        "  print(\"-\"*40)\n",
        "  print(\"Métricas\")\n",
        "  print('-'*40)\n",
        "  print(\"Acurácia: %f\" % evaluator.evaluate(dados_treino,{evaluator.metricName: 'accuracy'}))\n",
        "  print(\"Precisão: %f\" % evaluator.evaluate(dados_treino,{evaluator.metricName: 'precisionByLabel'}))\n",
        "  print(\"Recall: %f\" % evaluator.evaluate(dados_treino,{evaluator.metricName: 'recallByLabel'}))\n",
        "  print(\"F1-Score: %f\" % evaluator.evaluate(dados_treino,{evaluator.metricName: 'fMeasureByLabel'}))\n",
        "  print(\"\")\n",
        "  print('='*40)\n",
        "  print('Dados de Teste')\n",
        "  print('='*40)\n",
        "  print('Matriz de Confusão')\n",
        "  print('-'*40)\n",
        "  calcula_mostra_matriz_confusao(dados_teste,normalize=False)\n",
        "  print(\"-\"*40)\n",
        "  print(\"Métricas\")\n",
        "  print('-'*40)\n",
        "  print(\"Acurácia: %f\" % evaluator.evaluate(dados_teste,{evaluator.metricName: 'accuracy'}))\n",
        "  print(\"Precisão: %f\" % evaluator.evaluate(dados_teste,{evaluator.metricName: 'precisionByLabel'}))\n",
        "  print(\"Recall: %f\" % evaluator.evaluate(dados_teste,{evaluator.metricName: 'recallByLabel'}))\n",
        "  print(\"F1-Score: %f\" % evaluator.evaluate(dados_teste,{evaluator.metricName: 'fMeasureByLabel'}))"
      ],
      "metadata": {
        "id": "Qp72fPx92yp9"
      },
      "execution_count": 100,
      "outputs": []
    },
    {
      "cell_type": "code",
      "source": [
        "# análise do melhor modelo\n",
        "report_metrics(\"Logistic Regression\",previsoes_lr_treino,previsoes_lr_teste)"
      ],
      "metadata": {
        "colab": {
          "base_uri": "https://localhost:8080/"
        },
        "id": "uwOvyB6z4VGy",
        "outputId": "d08f573a-cb59-4b67-9d23-baf86969ab90"
      },
      "execution_count": 104,
      "outputs": [
        {
          "output_type": "stream",
          "name": "stdout",
          "text": [
            "Logistic Regression\n",
            "========================================\n",
            "Dados de Treino\n",
            "========================================\n",
            "Matriz de Confusão\n",
            "----------------------------------------\n",
            "                     Previsto\n",
            "                Churn       Não-Churn\n",
            "     Churn        2934         677\n",
            "Real\n",
            "     Não-Churn    873         2722\n",
            "----------------------------------------\n",
            "Métricas\n",
            "----------------------------------------\n",
            "Acurácia: 0.784901\n",
            "Precisão: 0.800824\n",
            "Recall: 0.757163\n",
            "F1-Score: 0.778381\n",
            "\n",
            "========================================\n",
            "Dados de Teste\n",
            "========================================\n",
            "Matriz de Confusão\n",
            "----------------------------------------\n",
            "                     Previsto\n",
            "                Churn       Não-Churn\n",
            "     Churn        1256         307\n",
            "Real\n",
            "     Não-Churn    400         1179\n",
            "----------------------------------------\n",
            "Métricas\n",
            "----------------------------------------\n",
            "Acurácia: 0.774984\n",
            "Precisão: 0.793405\n",
            "Recall: 0.746675\n",
            "F1-Score: 0.769331\n"
          ]
        }
      ]
    },
    {
      "cell_type": "code",
      "source": [
        "report_metrics(\"Decision Tree Classifier\",previsoes_dtc_treino,previsoes_dtc_teste)"
      ],
      "metadata": {
        "colab": {
          "base_uri": "https://localhost:8080/"
        },
        "id": "bpH3hkp14d6A",
        "outputId": "02fcfdd9-798e-42c6-f19a-e357babff263"
      },
      "execution_count": 105,
      "outputs": [
        {
          "output_type": "stream",
          "name": "stdout",
          "text": [
            "Decision Tree\n",
            "========================================\n",
            "Dados de Treino\n",
            "========================================\n",
            "Matriz de Confusão\n",
            "----------------------------------------\n",
            "                     Previsto\n",
            "                Churn       Não-Churn\n",
            "     Churn        2784         827\n",
            "Real\n",
            "     Não-Churn    674         2921\n",
            "----------------------------------------\n",
            "Métricas\n",
            "----------------------------------------\n",
            "Acurácia: 0.791701\n",
            "Precisão: 0.779349\n",
            "Recall: 0.812517\n",
            "F1-Score: 0.795588\n",
            "\n",
            "========================================\n",
            "Dados de Teste\n",
            "========================================\n",
            "Matriz de Confusão\n",
            "----------------------------------------\n",
            "                     Previsto\n",
            "                Churn       Não-Churn\n",
            "     Churn        1181         382\n",
            "Real\n",
            "     Não-Churn    336         1243\n",
            "----------------------------------------\n",
            "Métricas\n",
            "----------------------------------------\n",
            "Acurácia: 0.771483\n",
            "Precisão: 0.764923\n",
            "Recall: 0.787207\n",
            "F1-Score: 0.775905\n"
          ]
        }
      ]
    },
    {
      "cell_type": "code",
      "source": [
        "report_metrics(\"Random Forest Classifier\",previsoes_rfc_treino,previsoes_rfc_teste)"
      ],
      "metadata": {
        "colab": {
          "base_uri": "https://localhost:8080/"
        },
        "id": "xZ9FEEB_5_tg",
        "outputId": "3a3d74ef-cfab-44ee-b79b-e3537d759a30"
      },
      "execution_count": 106,
      "outputs": [
        {
          "output_type": "stream",
          "name": "stdout",
          "text": [
            "Random Forest Classifier\n",
            "========================================\n",
            "Dados de Treino\n",
            "========================================\n",
            "Matriz de Confusão\n",
            "----------------------------------------\n",
            "                     Previsto\n",
            "                Churn       Não-Churn\n",
            "     Churn        2950         661\n",
            "Real\n",
            "     Não-Churn    884         2711\n",
            "----------------------------------------\n",
            "Métricas\n",
            "----------------------------------------\n",
            "Acurácia: 0.785595\n",
            "Precisão: 0.803974\n",
            "Recall: 0.754103\n",
            "F1-Score: 0.778240\n",
            "\n",
            "========================================\n",
            "Dados de Teste\n",
            "========================================\n",
            "Matriz de Confusão\n",
            "----------------------------------------\n",
            "                     Previsto\n",
            "                Churn       Não-Churn\n",
            "     Churn        1257         306\n",
            "Real\n",
            "     Não-Churn    416         1163\n",
            "----------------------------------------\n",
            "Métricas\n",
            "----------------------------------------\n",
            "Acurácia: 0.770210\n",
            "Precisão: 0.791695\n",
            "Recall: 0.736542\n",
            "F1-Score: 0.763123\n"
          ]
        }
      ]
    },
    {
      "cell_type": "markdown",
      "source": [
        "# Técnicas de Otimização"
      ],
      "metadata": {
        "id": "OYQetYHX8nCJ"
      }
    },
    {
      "cell_type": "code",
      "source": [
        "from pyspark.ml.tuning import CrossValidator,ParamGridBuilder"
      ],
      "metadata": {
        "id": "OrDJp10N8pPh"
      },
      "execution_count": 107,
      "outputs": []
    },
    {
      "cell_type": "code",
      "source": [
        "# instanciando o algoritmo\n",
        "dtc = DecisionTreeClassifier(seed=SEED)"
      ],
      "metadata": {
        "id": "KtXBpsMKGVEi"
      },
      "execution_count": 108,
      "outputs": []
    },
    {
      "cell_type": "code",
      "source": [
        "# criando o grid\n",
        "grid = ParamGridBuilder()\\\n",
        "  .addGrid(dtc.maxDepth,[2,5,10])\\\n",
        "  .addGrid(dtc.maxBins,[10,32,45])\\\n",
        "  .build()"
      ],
      "metadata": {
        "id": "HsRBKjNhGhsb"
      },
      "execution_count": 110,
      "outputs": []
    },
    {
      "cell_type": "code",
      "source": [
        "# criando o avaliador\n",
        "evaluator = MulticlassClassificationEvaluator()"
      ],
      "metadata": {
        "id": "y_0uZoQ_HTzz"
      },
      "execution_count": 113,
      "outputs": []
    },
    {
      "cell_type": "code",
      "source": [
        "# cria o modelo de validação cruzada para o decision tree\n",
        "dtc_cv = CrossValidator(\n",
        "    estimator=dtc,\n",
        "    estimatorParamMaps=grid,\n",
        "    evaluator=evaluator,\n",
        "    numFolds=3,\n",
        "    seed=SEED\n",
        ")"
      ],
      "metadata": {
        "id": "HIdDOwtsHkAs"
      },
      "execution_count": 115,
      "outputs": []
    },
    {
      "cell_type": "code",
      "source": [
        "# cria o modelo decision tree para os dados de treino\n",
        "modelo_dtc_cv = dtc_cv.fit(treino)"
      ],
      "metadata": {
        "id": "da4A5I-UImEA"
      },
      "execution_count": 116,
      "outputs": []
    },
    {
      "cell_type": "code",
      "source": [
        "# realizando as previsoes com dados de teste\n",
        "previsoes_dtc_cv_teste = modelo_dtc_cv.transform(teste)"
      ],
      "metadata": {
        "id": "9qgRqJr9I6Wn"
      },
      "execution_count": 121,
      "outputs": []
    },
    {
      "cell_type": "code",
      "source": [
        "print('Decicion Tree Classifier Cross Validator')\n",
        "print('='*40)\n",
        "print('Dados de Teste')\n",
        "print('='*40)\n",
        "print('Matriz de Confusão')\n",
        "print('-'*40)\n",
        "calcula_mostra_matriz_confusao(previsoes_dtc_cv_teste,normalize=False)\n",
        "print(\"-\"*40)\n",
        "print(\"Métricas\")\n",
        "print('-'*40)\n",
        "print(\"Acurácia: %f\" % evaluator.evaluate(previsoes_dtc_cv_teste,{evaluator.metricName: 'accuracy'}))\n",
        "print(\"Precisão: %f\" % evaluator.evaluate(previsoes_dtc_cv_teste,{evaluator.metricName: 'precisionByLabel'}))\n",
        "print(\"Recall: %f\" % evaluator.evaluate(previsoes_dtc_cv_teste,{evaluator.metricName: 'recallByLabel'}))\n",
        "print(\"F1-Score: %f\" % evaluator.evaluate(previsoes_dtc_cv_teste,{evaluator.metricName: 'fMeasureByLabel'}))"
      ],
      "metadata": {
        "colab": {
          "base_uri": "https://localhost:8080/"
        },
        "id": "aYN7RiWbKsfF",
        "outputId": "7d1f3b39-d36b-4ede-8325-ea0ea6346315"
      },
      "execution_count": 122,
      "outputs": [
        {
          "output_type": "stream",
          "name": "stdout",
          "text": [
            "Decicion Tree Classifier Cross Validator\n",
            "========================================\n",
            "Dados de Teste\n",
            "========================================\n",
            "Matriz de Confusão\n",
            "----------------------------------------\n",
            "                     Previsto\n",
            "                Churn       Não-Churn\n",
            "     Churn        1327         236\n",
            "Real\n",
            "     Não-Churn    423         1156\n",
            "----------------------------------------\n",
            "Métricas\n",
            "----------------------------------------\n",
            "Acurácia: 0.790261\n",
            "Precisão: 0.830460\n",
            "Recall: 0.732109\n",
            "F1-Score: 0.778189\n"
          ]
        }
      ]
    },
    {
      "cell_type": "code",
      "source": [
        "# instanciando o algoritmo\n",
        "rfc = RandomForestClassifier(seed=SEED)"
      ],
      "metadata": {
        "id": "sU4-jb4ULIX6"
      },
      "execution_count": 123,
      "outputs": []
    },
    {
      "cell_type": "code",
      "source": [
        "# criando o grid\n",
        "grid = ParamGridBuilder()\\\n",
        "  .addGrid(rfc.maxDepth,[2,5,10])\\\n",
        "  .addGrid(rfc.maxBins,[10,32,45])\\\n",
        "  .addGrid(rfc.numTrees,[10,20,50])\\\n",
        "  .build()"
      ],
      "metadata": {
        "id": "tI2lTNtFUyQL"
      },
      "execution_count": 124,
      "outputs": []
    },
    {
      "cell_type": "code",
      "source": [
        "# criando o avaliador\n",
        "evaluator = MulticlassClassificationEvaluator()"
      ],
      "metadata": {
        "id": "xmzV21V4VB1e"
      },
      "execution_count": 125,
      "outputs": []
    },
    {
      "cell_type": "code",
      "source": [
        "# cria o modelo de validação cruzada para o random forest\n",
        "rfc_cv = CrossValidator(\n",
        "    estimator=rfc,\n",
        "    estimatorParamMaps=grid,\n",
        "    evaluator=evaluator,\n",
        "    numFolds=3,\n",
        "    seed=SEED\n",
        ")"
      ],
      "metadata": {
        "id": "-IEAR5-XVD3_"
      },
      "execution_count": 131,
      "outputs": []
    },
    {
      "cell_type": "code",
      "source": [
        "# cria o modelo random forest para os dados de treino\n",
        "modelo_rfc_cv = rfc_cv.fit(treino)"
      ],
      "metadata": {
        "id": "oCGfD8ntVJwV"
      },
      "execution_count": 132,
      "outputs": []
    },
    {
      "cell_type": "code",
      "source": [
        "# realizando as previsoes com dados de teste\n",
        "previsoes_rfc_cv_teste = modelo_rfc_cv.transform(teste)"
      ],
      "metadata": {
        "id": "71HivMghVSLc"
      },
      "execution_count": 133,
      "outputs": []
    },
    {
      "cell_type": "code",
      "source": [
        "print('Random Forest Classifier Cross Validator')\n",
        "print('='*40)\n",
        "print('Dados de Teste')\n",
        "print('='*40)\n",
        "print('Matriz de Confusão')\n",
        "print('-'*40)\n",
        "calcula_mostra_matriz_confusao(previsoes_rfc_cv_teste,normalize=False)\n",
        "print(\"-\"*40)\n",
        "print(\"Métricas\")\n",
        "print('-'*40)\n",
        "print(\"Acurácia: %f\" % evaluator.evaluate(previsoes_rfc_cv_teste,{evaluator.metricName: 'accuracy'}))\n",
        "print(\"Precisão: %f\" % evaluator.evaluate(previsoes_rfc_cv_teste,{evaluator.metricName: 'precisionByLabel'}))\n",
        "print(\"Recall: %f\" % evaluator.evaluate(previsoes_rfc_cv_teste,{evaluator.metricName: 'recallByLabel'}))\n",
        "print(\"F1-Score: %f\" % evaluator.evaluate(previsoes_rfc_cv_teste,{evaluator.metricName: 'fMeasureByLabel'}))"
      ],
      "metadata": {
        "colab": {
          "base_uri": "https://localhost:8080/"
        },
        "id": "fFPfvgsBV5wU",
        "outputId": "6f43a37a-3af3-46c4-9b1c-9824dcff0548"
      },
      "execution_count": 134,
      "outputs": [
        {
          "output_type": "stream",
          "name": "stdout",
          "text": [
            "Random Forest Classifier Cross Validator\n",
            "========================================\n",
            "Dados de Teste\n",
            "========================================\n",
            "Matriz de Confusão\n",
            "----------------------------------------\n",
            "                     Previsto\n",
            "                Churn       Não-Churn\n",
            "     Churn        1322         241\n",
            "Real\n",
            "     Não-Churn    347         1232\n",
            "----------------------------------------\n",
            "Métricas\n",
            "----------------------------------------\n",
            "Acurácia: 0.812858\n",
            "Precisão: 0.836388\n",
            "Recall: 0.780241\n",
            "F1-Score: 0.807339\n"
          ]
        }
      ]
    },
    {
      "cell_type": "code",
      "source": [
        "# treinando o modelo final\n",
        "melhor_modelo_rfc_cv = modelo_rfc_cv.bestModel"
      ],
      "metadata": {
        "id": "zOPALUCQWjVS"
      },
      "execution_count": 135,
      "outputs": []
    },
    {
      "cell_type": "code",
      "source": [
        "# coletando os hiperparâmetros\n",
        "print(f'Profundidade Máxima: {melhor_modelo_rfc_cv.getMaxDepth()}')\n",
        "print(f'Máx Bins: {melhor_modelo_rfc_cv.getMaxBins()}')\n",
        "print(f'Número de árvores de decisão: {melhor_modelo_rfc_cv.getNumTrees}')"
      ],
      "metadata": {
        "colab": {
          "base_uri": "https://localhost:8080/"
        },
        "id": "YcBnVHlxZOpp",
        "outputId": "1c3ba6b2-4a79-4cfe-e971-a39d5c8ffd5c"
      },
      "execution_count": 142,
      "outputs": [
        {
          "output_type": "stream",
          "name": "stdout",
          "text": [
            "Profundidade Máxima: 10\n",
            "Máx Bins: 45\n",
            "Número de árvores de decisão: 20\n"
          ]
        }
      ]
    },
    {
      "cell_type": "code",
      "source": [
        "# criando um novo modelo\n",
        "rfc_tuning = RandomForestClassifier(maxDepth=10,maxBins=45,numTrees=20,seed=SEED)"
      ],
      "metadata": {
        "id": "S0rJS3fDZoPz"
      },
      "execution_count": 144,
      "outputs": []
    },
    {
      "cell_type": "code",
      "source": [
        "modelo_rfc_tuning = rfc_tuning.fit(dataset_prep)"
      ],
      "metadata": {
        "id": "FQaEiD7-abcg"
      },
      "execution_count": 146,
      "outputs": []
    },
    {
      "cell_type": "code",
      "source": [
        "novo_cliente = [{\n",
        " 'Mais65anos':0,\n",
        " 'MesesDeContrato':1,\n",
        " 'MesesCobrados':45.30540797610398,\n",
        " 'Conjuge':0,\n",
        " 'Dependentes':0,\n",
        " 'TelefoneFixo':0,\n",
        " 'MaisDeUmaLinhaTelefonica':0,\n",
        " 'SegurancaOnline':0,\n",
        " 'BackupOnline':0,\n",
        " 'SeguroDispositivo':0,\n",
        " 'SuporteTecnico':0,\n",
        " 'TVaCabo':1,\n",
        " 'StreamingFilmes':1,\n",
        " 'ContaCorreio':1,\n",
        " 'Internet_DSL':1,\n",
        " 'Internet_FibraOptica':0,\n",
        " 'Internet_Nao':0,\n",
        " 'TipoContrato_Mensalmente':1,\n",
        " 'TipoContrato_UmAno':0,\n",
        " 'TipoContrato_DoisAnos':0,\n",
        " 'MetodoPagamento_DebitoEmConta':0,\n",
        " 'MetodoPagamento_CartaoCredito':0,\n",
        " 'MetodoPagamento_BoletoEletronico':1,\n",
        " 'MetodoPagamento_Boleto':0}]"
      ],
      "metadata": {
        "id": "AkcxKDtyatmL"
      },
      "execution_count": 149,
      "outputs": []
    },
    {
      "cell_type": "code",
      "source": [
        "novo_cliente = spark.createDataFrame(novo_cliente)\n",
        "novo_cliente.show()"
      ],
      "metadata": {
        "colab": {
          "base_uri": "https://localhost:8080/"
        },
        "id": "FveqpFr5a8mx",
        "outputId": "20130458-7556-4c6e-a9dd-881a2a1d63d6"
      },
      "execution_count": 150,
      "outputs": [
        {
          "output_type": "stream",
          "name": "stdout",
          "text": [
            "+------------+-------+------------+-----------+------------+--------------------+------------+----------+------------------------+-----------------+---------------+----------------------+--------------------------------+-----------------------------+-----------------------------+---------------+-----------------+---------------+--------------+-------+------------+---------------------+------------------------+------------------+\n",
            "|BackupOnline|Conjuge|ContaCorreio|Dependentes|Internet_DSL|Internet_FibraOptica|Internet_Nao|Mais65anos|MaisDeUmaLinhaTelefonica|    MesesCobrados|MesesDeContrato|MetodoPagamento_Boleto|MetodoPagamento_BoletoEletronico|MetodoPagamento_CartaoCredito|MetodoPagamento_DebitoEmConta|SegurancaOnline|SeguroDispositivo|StreamingFilmes|SuporteTecnico|TVaCabo|TelefoneFixo|TipoContrato_DoisAnos|TipoContrato_Mensalmente|TipoContrato_UmAno|\n",
            "+------------+-------+------------+-----------+------------+--------------------+------------+----------+------------------------+-----------------+---------------+----------------------+--------------------------------+-----------------------------+-----------------------------+---------------+-----------------+---------------+--------------+-------+------------+---------------------+------------------------+------------------+\n",
            "|           0|      0|           1|          0|           1|                   0|           0|         0|                       0|45.30540797610398|              1|                     0|                               1|                            0|                            0|              0|                0|              1|             0|      1|           0|                    0|                       1|                 0|\n",
            "+------------+-------+------------+-----------+------------+--------------------+------------+----------+------------------------+-----------------+---------------+----------------------+--------------------------------+-----------------------------+-----------------------------+---------------+-----------------+---------------+--------------+-------+------------+---------------------+------------------------+------------------+\n",
            "\n"
          ]
        }
      ]
    },
    {
      "cell_type": "code",
      "source": [
        "assembler = VectorAssembler(inputCols=X,outputCol='features')"
      ],
      "metadata": {
        "id": "huFHGYUrcBXN"
      },
      "execution_count": 151,
      "outputs": []
    },
    {
      "cell_type": "code",
      "source": [
        "novo_cliente_prep = assembler.transform(novo_cliente).select('features')"
      ],
      "metadata": {
        "id": "BHO2lve5cTDE"
      },
      "execution_count": 152,
      "outputs": []
    },
    {
      "cell_type": "code",
      "source": [
        "novo_cliente_prep.show(truncate=False)"
      ],
      "metadata": {
        "colab": {
          "base_uri": "https://localhost:8080/"
        },
        "id": "N3y0KZITcaev",
        "outputId": "8c0d6983-bb1d-4f2f-b0b6-01072c0d3421"
      },
      "execution_count": 153,
      "outputs": [
        {
          "output_type": "stream",
          "name": "stdout",
          "text": [
            "+----------------------------------------------------------------------------+\n",
            "|features                                                                    |\n",
            "+----------------------------------------------------------------------------+\n",
            "|(24,[1,2,11,12,13,14,17,22],[1.0,45.30540797610398,1.0,1.0,1.0,1.0,1.0,1.0])|\n",
            "+----------------------------------------------------------------------------+\n",
            "\n"
          ]
        }
      ]
    },
    {
      "cell_type": "code",
      "source": [
        "modelo_rfc_tuning.transform(novo_cliente_prep).show()"
      ],
      "metadata": {
        "colab": {
          "base_uri": "https://localhost:8080/"
        },
        "id": "GvUytryVcfqx",
        "outputId": "4bf13786-98ca-446c-b22d-edd50be3ad49"
      },
      "execution_count": 154,
      "outputs": [
        {
          "output_type": "stream",
          "name": "stdout",
          "text": [
            "+--------------------+--------------------+--------------------+----------+\n",
            "|            features|       rawPrediction|         probability|prediction|\n",
            "+--------------------+--------------------+--------------------+----------+\n",
            "|(24,[1,2,11,12,13...|[2.16984156904747...|[0.10849207845237...|       1.0|\n",
            "+--------------------+--------------------+--------------------+----------+\n",
            "\n"
          ]
        }
      ]
    },
    {
      "cell_type": "markdown",
      "source": [
        "Criando para o modelo logistic regression"
      ],
      "metadata": {
        "id": "NoWeujYDfUwd"
      }
    },
    {
      "cell_type": "code",
      "source": [
        "# instanciando um objeto\n",
        "lr = LogisticRegression()"
      ],
      "metadata": {
        "id": "L0q5WKxrcxCi"
      },
      "execution_count": 156,
      "outputs": []
    },
    {
      "cell_type": "code",
      "source": [
        "# definindo os hiperparâmetros\n",
        "grid = ParamGridBuilder() \\\n",
        "    .addGrid(lr.regParam, [0.1, 0.01]) \\\n",
        "    .addGrid(lr.elasticNetParam, [0.0, 1.0])\\\n",
        "    .build()"
      ],
      "metadata": {
        "id": "Op46plHIfSpl"
      },
      "execution_count": 157,
      "outputs": []
    },
    {
      "cell_type": "code",
      "source": [
        "lr_cv = CrossValidator(\n",
        "    estimator=lr,\n",
        "    estimatorParamMaps=grid,\n",
        "    evaluator=evaluator,\n",
        "    numFolds=3,\n",
        "    seed=SEED\n",
        ")"
      ],
      "metadata": {
        "id": "A2E77a_Ffrqi"
      },
      "execution_count": 159,
      "outputs": []
    },
    {
      "cell_type": "code",
      "source": [
        "modelo_lr_cv = lr_cv.fit(treino)"
      ],
      "metadata": {
        "id": "fjE4Z1G1gGXE"
      },
      "execution_count": 160,
      "outputs": []
    },
    {
      "cell_type": "code",
      "source": [
        "# realizando as previsoes com dados de teste\n",
        "previsoes_lr_cv_teste = modelo_lr_cv.transform(teste)"
      ],
      "metadata": {
        "id": "ki4JftiOgPGJ"
      },
      "execution_count": 161,
      "outputs": []
    },
    {
      "cell_type": "code",
      "source": [
        "print('Logistic Regression Cross Validator')\n",
        "print('='*40)\n",
        "print('Dados de Teste')\n",
        "print('='*40)\n",
        "print('Matriz de Confusão')\n",
        "print('-'*40)\n",
        "calcula_mostra_matriz_confusao(previsoes_lr_cv_teste,normalize=False)\n",
        "print(\"-\"*40)\n",
        "print(\"Métricas\")\n",
        "print('-'*40)\n",
        "print(\"Acurácia: %f\" % evaluator.evaluate(previsoes_lr_cv_teste,{evaluator.metricName: 'accuracy'}))\n",
        "print(\"Precisão: %f\" % evaluator.evaluate(previsoes_lr_cv_teste,{evaluator.metricName: 'precisionByLabel'}))\n",
        "print(\"Recall: %f\" % evaluator.evaluate(previsoes_lr_cv_teste,{evaluator.metricName: 'recallByLabel'}))\n",
        "print(\"F1-Score: %f\" % evaluator.evaluate(previsoes_lr_cv_teste,{evaluator.metricName: 'fMeasureByLabel'}))"
      ],
      "metadata": {
        "colab": {
          "base_uri": "https://localhost:8080/"
        },
        "id": "Ip5WZOYKg2g6",
        "outputId": "74d062e6-4f1f-4918-aae3-fd814f0a3711"
      },
      "execution_count": 162,
      "outputs": [
        {
          "output_type": "stream",
          "name": "stdout",
          "text": [
            "Logistic Regression Cross Validator\n",
            "========================================\n",
            "Dados de Teste\n",
            "========================================\n",
            "Matriz de Confusão\n",
            "----------------------------------------\n",
            "                     Previsto\n",
            "                Churn       Não-Churn\n",
            "     Churn        1271         292\n",
            "Real\n",
            "     Não-Churn    408         1171\n",
            "----------------------------------------\n",
            "Métricas\n",
            "----------------------------------------\n",
            "Acurácia: 0.777212\n",
            "Precisão: 0.800410\n",
            "Recall: 0.741609\n",
            "F1-Score: 0.769888\n"
          ]
        }
      ]
    },
    {
      "cell_type": "code",
      "source": [
        "# treinando o modelo final\n",
        "melhor_modelo_lr_cv = modelo_lr_cv.bestModel"
      ],
      "metadata": {
        "id": "7yRBH_XPhDHx"
      },
      "execution_count": 163,
      "outputs": []
    },
    {
      "cell_type": "code",
      "source": [
        "# coletando os hiperparâmetros\n",
        "print(f'Melhor Reg Param: {melhor_modelo_lr_cv.getRegParam()}')\n",
        "print(f'Melhor Elastic Net Param: {melhor_modelo_lr_cv.getElasticNetParam()}')"
      ],
      "metadata": {
        "colab": {
          "base_uri": "https://localhost:8080/"
        },
        "id": "ML4YpBilhK1L",
        "outputId": "94911425-7bfd-4af4-dd35-0ba31bedbdfd"
      },
      "execution_count": 168,
      "outputs": [
        {
          "output_type": "stream",
          "name": "stdout",
          "text": [
            "Melhor Reg Param: 0.01\n",
            "Melhor Elastic Net Param: 1.0\n"
          ]
        }
      ]
    },
    {
      "cell_type": "code",
      "source": [
        "# criando um novo modelo\n",
        "lr_tuning = LogisticRegression(regParam=0.01,elasticNetParam=1)"
      ],
      "metadata": {
        "id": "McEAeN5QhPXI"
      },
      "execution_count": 171,
      "outputs": []
    },
    {
      "cell_type": "code",
      "source": [
        "modelo_lr_tuning = lr_tuning.fit(dataset_prep)"
      ],
      "metadata": {
        "id": "2flZJUsEiKGu"
      },
      "execution_count": 172,
      "outputs": []
    },
    {
      "cell_type": "code",
      "source": [
        "modelo_rfc_tuning.transform(novo_cliente_prep).show()"
      ],
      "metadata": {
        "colab": {
          "base_uri": "https://localhost:8080/"
        },
        "id": "SzPfeJ37h0Xn",
        "outputId": "6fc41059-e40c-4bae-8407-386b043cc4bd"
      },
      "execution_count": 175,
      "outputs": [
        {
          "output_type": "stream",
          "name": "stdout",
          "text": [
            "+--------------------+--------------------+--------------------+----------+\n",
            "|            features|       rawPrediction|         probability|prediction|\n",
            "+--------------------+--------------------+--------------------+----------+\n",
            "|(24,[1,2,11,12,13...|[2.16984156904747...|[0.10849207845237...|       1.0|\n",
            "+--------------------+--------------------+--------------------+----------+\n",
            "\n"
          ]
        }
      ]
    },
    {
      "cell_type": "code",
      "source": [],
      "metadata": {
        "id": "YbZ9a76RiR3D"
      },
      "execution_count": null,
      "outputs": []
    }
  ]
}